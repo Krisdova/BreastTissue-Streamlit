{
  "nbformat": 4,
  "nbformat_minor": 0,
  "metadata": {
    "colab": {
      "provenance": []
    },
    "kernelspec": {
      "name": "python3",
      "display_name": "Python 3"
    },
    "language_info": {
      "name": "python"
    }
  },
  "cells": [
    {
      "cell_type": "markdown",
      "source": [
        "**Nama : Krisdova Rio Alvonsa** \\\n",
        "**NIM : 210411100165** \\\n",
        "**Kelas : PSD B**"
      ],
      "metadata": {
        "id": "IjWjRAOrUog5"
      }
    },
    {
      "cell_type": "markdown",
      "source": [
        "## **DRIVE**"
      ],
      "metadata": {
        "id": "zw1tdkrFU8YI"
      }
    },
    {
      "cell_type": "code",
      "execution_count": null,
      "metadata": {
        "colab": {
          "base_uri": "https://localhost:8080/"
        },
        "id": "ma1_BvJXUg6K",
        "outputId": "950445f7-661e-468f-d3f8-06ee2f06c1ad"
      },
      "outputs": [
        {
          "output_type": "stream",
          "name": "stdout",
          "text": [
            "Mounted at /content/drive\n"
          ]
        }
      ],
      "source": [
        "from google.colab import drive\n",
        "drive.mount(\"/content/drive\")"
      ]
    },
    {
      "cell_type": "code",
      "source": [
        "%cd /content/drive/MyDrive/PSDKris3"
      ],
      "metadata": {
        "colab": {
          "base_uri": "https://localhost:8080/"
        },
        "id": "Ol14na4rVMPL",
        "outputId": "557c4925-ff95-49c7-d9a0-d326113ea062"
      },
      "execution_count": null,
      "outputs": [
        {
          "output_type": "stream",
          "name": "stdout",
          "text": [
            "/content/drive/MyDrive/PSDKris3\n"
          ]
        }
      ]
    },
    {
      "cell_type": "markdown",
      "source": [
        "## **BUSINESS UNDERSTANDING**"
      ],
      "metadata": {
        "id": "0gGZDEgnVUN8"
      }
    },
    {
      "cell_type": "markdown",
      "source": [
        "### **TUJUAN PROYEK**"
      ],
      "metadata": {
        "id": "dVxZGcLwVXIi"
      }
    },
    {
      "cell_type": "markdown",
      "source": [
        "Melakukan klasifikasi pada dataset kelenjar payudara yang didapat dari INEB-Instituto de Engenharia Biomédica, berikut adalah 6 kelas kelainan dari sampel kelenjar payudara : \\\n",
        "1. **Car (Carcinoma)**: Karsinoma, yang merupakan jenis kanker. \\\n",
        "2. **Fad (Fibro-adenoma)**: Fibro-adenoma, sebuah jenis tumor jinak yang umum pada payudara. \\\n",
        "3. **Mas (Mastopathy)**: Mastopati, sebuah kondisi di mana jaringan payudara mengalami perubahan patologis. \\\n",
        "4. **Gla (Glandular)**: Jaringan kelenjar. \\\n",
        "5. **Con (Connective)**: Jaringan ikat. \\\n",
        "6. **Adi (Adipose)**: Jaringan adiposa atau jaringan lemak."
      ],
      "metadata": {
        "id": "sk_3gRm0Vz6n"
      }
    },
    {
      "cell_type": "markdown",
      "source": [
        "### **DESKRIPSI FITUR**"
      ],
      "metadata": {
        "id": "Ax8I3aqvVeWc"
      }
    },
    {
      "cell_type": "markdown",
      "source": [
        "Berikut adalah fitur-fitur yang terdapat dalam dataset : \\\n",
        "1. **I0 (Impedivitas pada Frekuensi Nol)** \\\n",
        "2. **PA500 (Sudut Fase pada 500 KHz)** \\\n",
        "3. **HFS (Kemiringan Tinggi Frekuensi Sudut Fase)** \\\n",
        "4. **DA (Jarak Impedansi antara Ujung Spektrum)** \\\n",
        "5. **AREA (Luas di Bawah Spektrum)**  \\\n",
        "6. **A/DA (Luas Daerah yang Dinormalisasi oleh DA)** \\\n",
        "7. **MAX IP (Maksimum dari Spektrum)** \\\n",
        "8. **DR (Jarak antara I0 dan Bagian Nyata dari Titik Frekuensi Maksimum)** \\\n",
        "9. **P (Panjang Kurva Spektral)**"
      ],
      "metadata": {
        "id": "HaLOYPKlV7SB"
      }
    },
    {
      "cell_type": "markdown",
      "source": [
        "### **TAMPILAN DATASET**"
      ],
      "metadata": {
        "id": "ZMCjOIEmVj1W"
      }
    },
    {
      "cell_type": "markdown",
      "source": [
        "Dalam dataset yang digunakan terdapat 106 baris dan 10 kolom"
      ],
      "metadata": {
        "id": "oMshUQdqWRQF"
      }
    },
    {
      "cell_type": "code",
      "source": [
        "import pandas as pd\n",
        "\n",
        "df = pd.read_csv('BreastTissue.csv')\n",
        "df"
      ],
      "metadata": {
        "colab": {
          "base_uri": "https://localhost:8080/",
          "height": 423
        },
        "id": "zVrDKOFWWJ2T",
        "outputId": "56c41368-ae27-4537-b2ba-f4165e1e01bb"
      },
      "execution_count": null,
      "outputs": [
        {
          "output_type": "execute_result",
          "data": {
            "text/plain": [
              "    Class           I0     PA500       HFS           DA           Area  \\\n",
              "0     car   524.794072  0.187448  0.032114   228.800228    6843.598481   \n",
              "1     car   330.000000  0.226893  0.265290   121.154201    3163.239472   \n",
              "2     car   551.879287  0.232478  0.063530   264.804935   11888.391827   \n",
              "3     car   380.000000  0.240855  0.286234   137.640111    5402.171180   \n",
              "4     car   362.831266  0.200713  0.244346   124.912559    3290.462446   \n",
              "..    ...          ...       ...       ...          ...            ...   \n",
              "101   adi  2000.000000  0.106989  0.105418   520.222649   40087.920984   \n",
              "102   adi  2600.000000  0.200538  0.208043  1063.441427  174480.476218   \n",
              "103   adi  1600.000000  0.071908 -0.066323   436.943603   12655.342135   \n",
              "104   adi  2300.000000  0.045029  0.136834   185.446044    5086.292497   \n",
              "105   adi  2600.000000  0.069988  0.048869   745.474369   39845.773698   \n",
              "\n",
              "           A/DA      Max IP          DR            P  \n",
              "0     29.910803   60.204880  220.737212   556.828334  \n",
              "1     26.109202   69.717361   99.084964   400.225776  \n",
              "2     44.894903   77.793297  253.785300   656.769449  \n",
              "3     39.248524   88.758446  105.198568   493.701814  \n",
              "4     26.342127   69.389389  103.866552   424.796503  \n",
              "..          ...         ...         ...          ...  \n",
              "101   77.059161  204.090347  478.517223  2088.648870  \n",
              "102  164.071543  418.687286  977.552367  2664.583623  \n",
              "103   28.963331  103.732704  432.129749  1475.371534  \n",
              "104   27.427344  178.691742   49.593290  2480.592151  \n",
              "105   53.450226  154.122604  729.368395  2545.419744  \n",
              "\n",
              "[106 rows x 10 columns]"
            ],
            "text/html": [
              "\n",
              "  <div id=\"df-b5c91879-13a6-4743-bf26-4be0c0ccf68b\" class=\"colab-df-container\">\n",
              "    <div>\n",
              "<style scoped>\n",
              "    .dataframe tbody tr th:only-of-type {\n",
              "        vertical-align: middle;\n",
              "    }\n",
              "\n",
              "    .dataframe tbody tr th {\n",
              "        vertical-align: top;\n",
              "    }\n",
              "\n",
              "    .dataframe thead th {\n",
              "        text-align: right;\n",
              "    }\n",
              "</style>\n",
              "<table border=\"1\" class=\"dataframe\">\n",
              "  <thead>\n",
              "    <tr style=\"text-align: right;\">\n",
              "      <th></th>\n",
              "      <th>Class</th>\n",
              "      <th>I0</th>\n",
              "      <th>PA500</th>\n",
              "      <th>HFS</th>\n",
              "      <th>DA</th>\n",
              "      <th>Area</th>\n",
              "      <th>A/DA</th>\n",
              "      <th>Max IP</th>\n",
              "      <th>DR</th>\n",
              "      <th>P</th>\n",
              "    </tr>\n",
              "  </thead>\n",
              "  <tbody>\n",
              "    <tr>\n",
              "      <th>0</th>\n",
              "      <td>car</td>\n",
              "      <td>524.794072</td>\n",
              "      <td>0.187448</td>\n",
              "      <td>0.032114</td>\n",
              "      <td>228.800228</td>\n",
              "      <td>6843.598481</td>\n",
              "      <td>29.910803</td>\n",
              "      <td>60.204880</td>\n",
              "      <td>220.737212</td>\n",
              "      <td>556.828334</td>\n",
              "    </tr>\n",
              "    <tr>\n",
              "      <th>1</th>\n",
              "      <td>car</td>\n",
              "      <td>330.000000</td>\n",
              "      <td>0.226893</td>\n",
              "      <td>0.265290</td>\n",
              "      <td>121.154201</td>\n",
              "      <td>3163.239472</td>\n",
              "      <td>26.109202</td>\n",
              "      <td>69.717361</td>\n",
              "      <td>99.084964</td>\n",
              "      <td>400.225776</td>\n",
              "    </tr>\n",
              "    <tr>\n",
              "      <th>2</th>\n",
              "      <td>car</td>\n",
              "      <td>551.879287</td>\n",
              "      <td>0.232478</td>\n",
              "      <td>0.063530</td>\n",
              "      <td>264.804935</td>\n",
              "      <td>11888.391827</td>\n",
              "      <td>44.894903</td>\n",
              "      <td>77.793297</td>\n",
              "      <td>253.785300</td>\n",
              "      <td>656.769449</td>\n",
              "    </tr>\n",
              "    <tr>\n",
              "      <th>3</th>\n",
              "      <td>car</td>\n",
              "      <td>380.000000</td>\n",
              "      <td>0.240855</td>\n",
              "      <td>0.286234</td>\n",
              "      <td>137.640111</td>\n",
              "      <td>5402.171180</td>\n",
              "      <td>39.248524</td>\n",
              "      <td>88.758446</td>\n",
              "      <td>105.198568</td>\n",
              "      <td>493.701814</td>\n",
              "    </tr>\n",
              "    <tr>\n",
              "      <th>4</th>\n",
              "      <td>car</td>\n",
              "      <td>362.831266</td>\n",
              "      <td>0.200713</td>\n",
              "      <td>0.244346</td>\n",
              "      <td>124.912559</td>\n",
              "      <td>3290.462446</td>\n",
              "      <td>26.342127</td>\n",
              "      <td>69.389389</td>\n",
              "      <td>103.866552</td>\n",
              "      <td>424.796503</td>\n",
              "    </tr>\n",
              "    <tr>\n",
              "      <th>...</th>\n",
              "      <td>...</td>\n",
              "      <td>...</td>\n",
              "      <td>...</td>\n",
              "      <td>...</td>\n",
              "      <td>...</td>\n",
              "      <td>...</td>\n",
              "      <td>...</td>\n",
              "      <td>...</td>\n",
              "      <td>...</td>\n",
              "      <td>...</td>\n",
              "    </tr>\n",
              "    <tr>\n",
              "      <th>101</th>\n",
              "      <td>adi</td>\n",
              "      <td>2000.000000</td>\n",
              "      <td>0.106989</td>\n",
              "      <td>0.105418</td>\n",
              "      <td>520.222649</td>\n",
              "      <td>40087.920984</td>\n",
              "      <td>77.059161</td>\n",
              "      <td>204.090347</td>\n",
              "      <td>478.517223</td>\n",
              "      <td>2088.648870</td>\n",
              "    </tr>\n",
              "    <tr>\n",
              "      <th>102</th>\n",
              "      <td>adi</td>\n",
              "      <td>2600.000000</td>\n",
              "      <td>0.200538</td>\n",
              "      <td>0.208043</td>\n",
              "      <td>1063.441427</td>\n",
              "      <td>174480.476218</td>\n",
              "      <td>164.071543</td>\n",
              "      <td>418.687286</td>\n",
              "      <td>977.552367</td>\n",
              "      <td>2664.583623</td>\n",
              "    </tr>\n",
              "    <tr>\n",
              "      <th>103</th>\n",
              "      <td>adi</td>\n",
              "      <td>1600.000000</td>\n",
              "      <td>0.071908</td>\n",
              "      <td>-0.066323</td>\n",
              "      <td>436.943603</td>\n",
              "      <td>12655.342135</td>\n",
              "      <td>28.963331</td>\n",
              "      <td>103.732704</td>\n",
              "      <td>432.129749</td>\n",
              "      <td>1475.371534</td>\n",
              "    </tr>\n",
              "    <tr>\n",
              "      <th>104</th>\n",
              "      <td>adi</td>\n",
              "      <td>2300.000000</td>\n",
              "      <td>0.045029</td>\n",
              "      <td>0.136834</td>\n",
              "      <td>185.446044</td>\n",
              "      <td>5086.292497</td>\n",
              "      <td>27.427344</td>\n",
              "      <td>178.691742</td>\n",
              "      <td>49.593290</td>\n",
              "      <td>2480.592151</td>\n",
              "    </tr>\n",
              "    <tr>\n",
              "      <th>105</th>\n",
              "      <td>adi</td>\n",
              "      <td>2600.000000</td>\n",
              "      <td>0.069988</td>\n",
              "      <td>0.048869</td>\n",
              "      <td>745.474369</td>\n",
              "      <td>39845.773698</td>\n",
              "      <td>53.450226</td>\n",
              "      <td>154.122604</td>\n",
              "      <td>729.368395</td>\n",
              "      <td>2545.419744</td>\n",
              "    </tr>\n",
              "  </tbody>\n",
              "</table>\n",
              "<p>106 rows × 10 columns</p>\n",
              "</div>\n",
              "    <div class=\"colab-df-buttons\">\n",
              "\n",
              "  <div class=\"colab-df-container\">\n",
              "    <button class=\"colab-df-convert\" onclick=\"convertToInteractive('df-b5c91879-13a6-4743-bf26-4be0c0ccf68b')\"\n",
              "            title=\"Convert this dataframe to an interactive table.\"\n",
              "            style=\"display:none;\">\n",
              "\n",
              "  <svg xmlns=\"http://www.w3.org/2000/svg\" height=\"24px\" viewBox=\"0 -960 960 960\">\n",
              "    <path d=\"M120-120v-720h720v720H120Zm60-500h600v-160H180v160Zm220 220h160v-160H400v160Zm0 220h160v-160H400v160ZM180-400h160v-160H180v160Zm440 0h160v-160H620v160ZM180-180h160v-160H180v160Zm440 0h160v-160H620v160Z\"/>\n",
              "  </svg>\n",
              "    </button>\n",
              "\n",
              "  <style>\n",
              "    .colab-df-container {\n",
              "      display:flex;\n",
              "      gap: 12px;\n",
              "    }\n",
              "\n",
              "    .colab-df-convert {\n",
              "      background-color: #E8F0FE;\n",
              "      border: none;\n",
              "      border-radius: 50%;\n",
              "      cursor: pointer;\n",
              "      display: none;\n",
              "      fill: #1967D2;\n",
              "      height: 32px;\n",
              "      padding: 0 0 0 0;\n",
              "      width: 32px;\n",
              "    }\n",
              "\n",
              "    .colab-df-convert:hover {\n",
              "      background-color: #E2EBFA;\n",
              "      box-shadow: 0px 1px 2px rgba(60, 64, 67, 0.3), 0px 1px 3px 1px rgba(60, 64, 67, 0.15);\n",
              "      fill: #174EA6;\n",
              "    }\n",
              "\n",
              "    .colab-df-buttons div {\n",
              "      margin-bottom: 4px;\n",
              "    }\n",
              "\n",
              "    [theme=dark] .colab-df-convert {\n",
              "      background-color: #3B4455;\n",
              "      fill: #D2E3FC;\n",
              "    }\n",
              "\n",
              "    [theme=dark] .colab-df-convert:hover {\n",
              "      background-color: #434B5C;\n",
              "      box-shadow: 0px 1px 3px 1px rgba(0, 0, 0, 0.15);\n",
              "      filter: drop-shadow(0px 1px 2px rgba(0, 0, 0, 0.3));\n",
              "      fill: #FFFFFF;\n",
              "    }\n",
              "  </style>\n",
              "\n",
              "    <script>\n",
              "      const buttonEl =\n",
              "        document.querySelector('#df-b5c91879-13a6-4743-bf26-4be0c0ccf68b button.colab-df-convert');\n",
              "      buttonEl.style.display =\n",
              "        google.colab.kernel.accessAllowed ? 'block' : 'none';\n",
              "\n",
              "      async function convertToInteractive(key) {\n",
              "        const element = document.querySelector('#df-b5c91879-13a6-4743-bf26-4be0c0ccf68b');\n",
              "        const dataTable =\n",
              "          await google.colab.kernel.invokeFunction('convertToInteractive',\n",
              "                                                    [key], {});\n",
              "        if (!dataTable) return;\n",
              "\n",
              "        const docLinkHtml = 'Like what you see? Visit the ' +\n",
              "          '<a target=\"_blank\" href=https://colab.research.google.com/notebooks/data_table.ipynb>data table notebook</a>'\n",
              "          + ' to learn more about interactive tables.';\n",
              "        element.innerHTML = '';\n",
              "        dataTable['output_type'] = 'display_data';\n",
              "        await google.colab.output.renderOutput(dataTable, element);\n",
              "        const docLink = document.createElement('div');\n",
              "        docLink.innerHTML = docLinkHtml;\n",
              "        element.appendChild(docLink);\n",
              "      }\n",
              "    </script>\n",
              "  </div>\n",
              "\n",
              "\n",
              "<div id=\"df-9e1e58d1-fdb1-4753-8e44-be42569b4367\">\n",
              "  <button class=\"colab-df-quickchart\" onclick=\"quickchart('df-9e1e58d1-fdb1-4753-8e44-be42569b4367')\"\n",
              "            title=\"Suggest charts\"\n",
              "            style=\"display:none;\">\n",
              "\n",
              "<svg xmlns=\"http://www.w3.org/2000/svg\" height=\"24px\"viewBox=\"0 0 24 24\"\n",
              "     width=\"24px\">\n",
              "    <g>\n",
              "        <path d=\"M19 3H5c-1.1 0-2 .9-2 2v14c0 1.1.9 2 2 2h14c1.1 0 2-.9 2-2V5c0-1.1-.9-2-2-2zM9 17H7v-7h2v7zm4 0h-2V7h2v10zm4 0h-2v-4h2v4z\"/>\n",
              "    </g>\n",
              "</svg>\n",
              "  </button>\n",
              "\n",
              "<style>\n",
              "  .colab-df-quickchart {\n",
              "      --bg-color: #E8F0FE;\n",
              "      --fill-color: #1967D2;\n",
              "      --hover-bg-color: #E2EBFA;\n",
              "      --hover-fill-color: #174EA6;\n",
              "      --disabled-fill-color: #AAA;\n",
              "      --disabled-bg-color: #DDD;\n",
              "  }\n",
              "\n",
              "  [theme=dark] .colab-df-quickchart {\n",
              "      --bg-color: #3B4455;\n",
              "      --fill-color: #D2E3FC;\n",
              "      --hover-bg-color: #434B5C;\n",
              "      --hover-fill-color: #FFFFFF;\n",
              "      --disabled-bg-color: #3B4455;\n",
              "      --disabled-fill-color: #666;\n",
              "  }\n",
              "\n",
              "  .colab-df-quickchart {\n",
              "    background-color: var(--bg-color);\n",
              "    border: none;\n",
              "    border-radius: 50%;\n",
              "    cursor: pointer;\n",
              "    display: none;\n",
              "    fill: var(--fill-color);\n",
              "    height: 32px;\n",
              "    padding: 0;\n",
              "    width: 32px;\n",
              "  }\n",
              "\n",
              "  .colab-df-quickchart:hover {\n",
              "    background-color: var(--hover-bg-color);\n",
              "    box-shadow: 0 1px 2px rgba(60, 64, 67, 0.3), 0 1px 3px 1px rgba(60, 64, 67, 0.15);\n",
              "    fill: var(--button-hover-fill-color);\n",
              "  }\n",
              "\n",
              "  .colab-df-quickchart-complete:disabled,\n",
              "  .colab-df-quickchart-complete:disabled:hover {\n",
              "    background-color: var(--disabled-bg-color);\n",
              "    fill: var(--disabled-fill-color);\n",
              "    box-shadow: none;\n",
              "  }\n",
              "\n",
              "  .colab-df-spinner {\n",
              "    border: 2px solid var(--fill-color);\n",
              "    border-color: transparent;\n",
              "    border-bottom-color: var(--fill-color);\n",
              "    animation:\n",
              "      spin 1s steps(1) infinite;\n",
              "  }\n",
              "\n",
              "  @keyframes spin {\n",
              "    0% {\n",
              "      border-color: transparent;\n",
              "      border-bottom-color: var(--fill-color);\n",
              "      border-left-color: var(--fill-color);\n",
              "    }\n",
              "    20% {\n",
              "      border-color: transparent;\n",
              "      border-left-color: var(--fill-color);\n",
              "      border-top-color: var(--fill-color);\n",
              "    }\n",
              "    30% {\n",
              "      border-color: transparent;\n",
              "      border-left-color: var(--fill-color);\n",
              "      border-top-color: var(--fill-color);\n",
              "      border-right-color: var(--fill-color);\n",
              "    }\n",
              "    40% {\n",
              "      border-color: transparent;\n",
              "      border-right-color: var(--fill-color);\n",
              "      border-top-color: var(--fill-color);\n",
              "    }\n",
              "    60% {\n",
              "      border-color: transparent;\n",
              "      border-right-color: var(--fill-color);\n",
              "    }\n",
              "    80% {\n",
              "      border-color: transparent;\n",
              "      border-right-color: var(--fill-color);\n",
              "      border-bottom-color: var(--fill-color);\n",
              "    }\n",
              "    90% {\n",
              "      border-color: transparent;\n",
              "      border-bottom-color: var(--fill-color);\n",
              "    }\n",
              "  }\n",
              "</style>\n",
              "\n",
              "  <script>\n",
              "    async function quickchart(key) {\n",
              "      const quickchartButtonEl =\n",
              "        document.querySelector('#' + key + ' button');\n",
              "      quickchartButtonEl.disabled = true;  // To prevent multiple clicks.\n",
              "      quickchartButtonEl.classList.add('colab-df-spinner');\n",
              "      try {\n",
              "        const charts = await google.colab.kernel.invokeFunction(\n",
              "            'suggestCharts', [key], {});\n",
              "      } catch (error) {\n",
              "        console.error('Error during call to suggestCharts:', error);\n",
              "      }\n",
              "      quickchartButtonEl.classList.remove('colab-df-spinner');\n",
              "      quickchartButtonEl.classList.add('colab-df-quickchart-complete');\n",
              "    }\n",
              "    (() => {\n",
              "      let quickchartButtonEl =\n",
              "        document.querySelector('#df-9e1e58d1-fdb1-4753-8e44-be42569b4367 button');\n",
              "      quickchartButtonEl.style.display =\n",
              "        google.colab.kernel.accessAllowed ? 'block' : 'none';\n",
              "    })();\n",
              "  </script>\n",
              "</div>\n",
              "    </div>\n",
              "  </div>\n"
            ]
          },
          "metadata": {},
          "execution_count": 3
        }
      ]
    },
    {
      "cell_type": "markdown",
      "source": [
        "## **DATA UNDERSTANDING**"
      ],
      "metadata": {
        "id": "uRfhkc6hWg6M"
      }
    },
    {
      "cell_type": "markdown",
      "source": [
        "### **TEKNIK PENGUMPULAN DATA**"
      ],
      "metadata": {
        "id": "1EaArRJlWjh0"
      }
    },
    {
      "cell_type": "markdown",
      "source": [
        "Studi kali ini akan membahas dataset tentang pengukuran impedansi listrik dari sampel jaringan/kelenjar yang baru dipotong dari payudara. \\\n",
        "Pengukuran impedansi jaringan payudara yang baru dipotong dilakukan pada frekuensi berikut: 15.625, 31.25, 62.5, 125, 250, 500, 1000 KHz . \\\n",
        "Pengukuran yang diplot pada bidang (real, -imaginary) merupakan spektrum impedansi yang digunakan untuk menghitung fitur jaringan payudara. \\\n",
        "\n",
        "Adapun berikut adalah sumber dari dataset yang digunakan : \\\n",
        "**JP Marques de Sá, INEB-Institut Teknik Biomedis, Porto, Portugal; Email: jpmdesa '@' gmail.com J Jossinet, inserm, Lyon, Prancis**    \\\n",
        "\n",
        "Data dari sampel jaringan/kelenjar payudara di kumpulkan dalam format CSV. \\\n",
        "\n",
        "Jumlah data sampel/baris data : 105 data dengan rincian sebagai berikut : \\\n",
        "- Adipose 22 data\n",
        "- Carcinoma 21 data\n",
        "- Mastopathy 18 data\n",
        "- Glandular 16 data\n",
        "- Fibro-adenoma 15 data\n",
        "- Connective 14 data \\\n",
        "\n",
        "**Sumber dataset pada ucimlrepo :** https://archive.ics.uci.edu/dataset/192/breast+tissue\n"
      ],
      "metadata": {
        "id": "uNi441Yku57y"
      }
    },
    {
      "cell_type": "markdown",
      "source": [
        "### **TIPS DATA UNDERSTANDING**"
      ],
      "metadata": {
        "id": "i-ZHxx6yWxvj"
      }
    },
    {
      "cell_type": "markdown",
      "source": [
        "1. Memahami dengan mendeskripsikan setiap fitur didalam dataset seperti:\n",
        "- Deskripsi setiap fitur dalam dataset\n",
        "- Tipe Data di setiap fitur dalam dataset\n",
        "2. Melakukan indetifikasi keberadaan Missing Values pada setiap fitur dalam dataset\n",
        "3. Eksplorasi Data (Visualisasi Data)\n",
        "4. Mengidentifikasi Outlier yang terdapat dalam dataset\n",
        "5. Identifikasi data duplikat\n",
        "6. Mengidentifikasi jumlah proporsi data setiap kelas dalam data agar jika terdapat inbalancing pada data dapat diketahui\n",
        "7. Rekap Data Understanding\n"
      ],
      "metadata": {
        "id": "hqEmGw6vvyEt"
      }
    },
    {
      "cell_type": "markdown",
      "source": [
        "### **1. PEMAHAMAN DATA**"
      ],
      "metadata": {
        "id": "oT4otVbAmyGg"
      }
    },
    {
      "cell_type": "markdown",
      "source": [
        "#### **1.1. DESKRIPSI FITUR**"
      ],
      "metadata": {
        "id": "dCjda1tzW2dt"
      }
    },
    {
      "cell_type": "markdown",
      "source": [
        "Berikut adalah penjelasan tiap fitur dalam dataset : \\\n",
        "1. **I0 (Impedivitas pada Frekuensi Nol)**: Ini adalah ukuran hambatan listrik pada frekuensi nol, diukur dalam ohm. Dalam konteks ini, ini mewakili seberapa besar hambatan terhadap aliran arus listrik pada frekuensi nol. \\\n",
        "2. **PA500 (Sudut Fase pada 500 KHz)**: Ini adalah sudut fase (angle) dari sinyal pada frekuensi 500 KHz. Sudut fase mengukur perbedaan waktu antara tegangan dan arus dalam sinyal. Nilai PA500 memberikan informasi tentang bagaimana sinyal merespon pada frekuensi ini. \\\n",
        "3. **HFS (Kemiringan Tinggi Frekuensi Sudut Fase)**: Ini mengukur kecuraman (slope) sudut fase pada frekuensi tinggi. Ini memberikan informasi tentang bagaimana sinyal berubah dalam hal sudut fase pada frekuensi tinggi. \\\n",
        "4. **DA (Jarak Impedansi antara Ujung Spektrum)**: Ini adalah jarak dalam hal impedansi antara dua ujung dari spektrum. Ini mencerminkan variasi besar dalam impedansi antara frekuensi tinggi dan rendah dalam spektrum. \\\n",
        "5. **AREA (Luas di Bawah Spektrum)**: Ini mengukur luas daerah di bawah kurva spektrum impedansi. Ini memberikan gambaran tentang total hambatan atau kompleksitas sirkuit elektrik. \\\n",
        "6. **A/DA (Luas Daerah yang Dinormalisasi oleh DA)**: Ini adalah nilai dari area di bawah spektrum yang dinormalisasi oleh jarak impedansi (DA). Ini membantu mempertimbangkan kompleksitas spektrum relatif terhadap jarak impedansi. \\\n",
        "7. **MAX IP (Maksimum dari Spektrum)**: Ini adalah nilai maksimum dari spektrum impedansi. Ini menunjukkan titik dengan hambatan tertinggi dalam spektrum. \\\n",
        "8. **DR (Jarak antara I0 dan Bagian Nyata dari Titik Frekuensi Maksimum)**: Ini adalah jarak antara nilai I0 dan bagian nyata dari titik frekuensi maksimum pada spektrum. Ini memberikan informasi tentang seberapa jauh titik maksimum terletak dari nilai I0. \\\n",
        "9. **P (Panjang Kurva Spektral)**: Ini adalah panjang kurva spektral, yang menggambarkan kompleksitas atau bentuk dari spektrum impedansi. Semakin panjang kurva, semakin kompleks spektrum tersebut."
      ],
      "metadata": {
        "id": "z3OMgjjUw6Sn"
      }
    },
    {
      "cell_type": "markdown",
      "source": [
        "#### **1.2. TIPE DATA TIAP FITUR**"
      ],
      "metadata": {
        "id": "NdYg6mv4W4Xk"
      }
    },
    {
      "cell_type": "markdown",
      "source": [
        "Adapun 4 jenis data : \\\n",
        "- Data Kategorikal:\n",
        "\n",
        "    Nominal: Adalah jenis data di mana nilai-nilai tidak memiliki urutan atau peringkat tertentu. \\\n",
        "    Contoh: jenis kelamin, warna mata, jenis kendaraan.\n",
        "\n",
        "    Ordinal: Adalah jenis data di mana nilai-nilai memiliki urutan atau peringkat tetapi selisih antara nilai-nilai tidak bermakna secara konsisten. \\\n",
        "    Contoh: tingkat kepuasan (rendah, sedang, tinggi), tingkatan pendidikan (SD, SMP, SMA).\n",
        "\n",
        "- Data Kuantitatif:\n",
        "\n",
        "    Interval: Adalah jenis data di mana selisih antara nilai-nilai memiliki makna yang konsisten, tetapi tidak ada titik nol yang mutlak. \\\n",
        "    Contoh: suhu dalam Celsius, skala IQ.\n",
        "\n",
        "    Rasio: Adalah jenis data di mana selisih antara nilai-nilai memiliki makna yang konsisten dan terdapat titik nol yang mutlak. \\\n",
        "    Contoh: umur, tinggi badan, pendapatan."
      ],
      "metadata": {
        "id": "iA_wHteixM-2"
      }
    },
    {
      "cell_type": "markdown",
      "source": [
        "Berikut adalah tipe atau jenis data pada setiap fitur di dalam dataset, apabila dilihat dari penjelasan di atas : \\\n",
        "\n",
        "- Fitur **Class** memiliki jenis data: **Nominal**, karena nilai-nilai fitur 'Class' tidak memiliki urutan atau peringkat tertentu.\n",
        "- Fitur  **I0** memiliki jenis data: **Rasio**, karena nilai-nilai memiliki makna konsisten dan terdapat titik nol mutlak.\n",
        "- Fitur  **PA500** memiliki jenis data: **Rasio**, karena nilai-nilai memiliki makna konsisten dan terdapat titik nol mutlak.\n",
        "- Fitur  **HFS** memiliki jenis data: **Rasio**, karena nilai-nilai memiliki makna konsisten dan terdapat titik nol mutlak.\n",
        "- Fitur  **DA** memiliki jenis data: **Rasio**, karena nilai-nilai memiliki makna konsisten dan terdapat titik nol mutlak.\n",
        "- Fitur  **Area** memiliki jenis data: **Rasio**, karena nilai-nilai memiliki makna konsisten dan terdapat titik nol mutlak.\n",
        "- Fitur  **A/DA** memiliki jenis data: **Rasio**, karena nilai-nilai memiliki makna konsisten dan terdapat titik nol mutlak.\n",
        "- Fitur  **Max IP** memiliki jenis data: **Rasio**, karena nilai-nilai memiliki makna konsisten dan terdapat titik nol mutlak.\n",
        "- Fitur  **DR** memiliki jenis data: **Rasio**, karena nilai-nilai memiliki makna konsisten dan terdapat titik nol mutlak.\n",
        "- Fitur  **P** memiliki jenis data: **Rasio**, karena nilai-nilai memiliki makna konsisten dan terdapat titik nol mutlak."
      ],
      "metadata": {
        "id": "qJ8fNL5mxOQc"
      }
    },
    {
      "cell_type": "markdown",
      "source": [
        "### **2. MISSING VALUE**"
      ],
      "metadata": {
        "id": "0qz-MuqQW9wf"
      }
    },
    {
      "cell_type": "markdown",
      "source": [
        "Missing value pada dataset adalah nilai yang absen atau tidak terisi untuk suatu variabel dalam dataset. Hal ini bisa terjadi karena beberapa alasan, seperti kesalahan pengumpulan data, kegagalan sensor, atau karena karakteristik alami dari data itu sendiri. \\\n",
        "\n",
        "**Catatan :** Dataset termasuk bagus/baik jika didalamnya tidak terdapat missing value"
      ],
      "metadata": {
        "id": "m7-yMhrKyEGc"
      }
    },
    {
      "cell_type": "code",
      "source": [
        "# Memeriksa apakah ada nilai hilang pada setiap kolom\n",
        "Periksa_Nilai_Hilang = df.isnull().any().any()\n",
        "if Periksa_Nilai_Hilang:\n",
        "    print(\"===Tidak ada missing value dalam Dataset===\")\n",
        "    print(\"\\nRingkasan missing value tiap fitur:\")\n",
        "    print(df.isnull().sum())\n",
        "else:\n",
        "    print(\"===Tidak ada missing value dalam Datasset===\")\n",
        "    print(\"\\nRingkasan missing value tiap fitur:\")\n",
        "    print(df.isnull().sum())"
      ],
      "metadata": {
        "colab": {
          "base_uri": "https://localhost:8080/"
        },
        "id": "OuKRJwRSyLGp",
        "outputId": "d8d152a8-b450-4b8a-8b73-4c443890bded"
      },
      "execution_count": null,
      "outputs": [
        {
          "output_type": "stream",
          "name": "stdout",
          "text": [
            "===Tidak ada missing value dalam Datasset===\n",
            "\n",
            "Ringkasan missing value tiap fitur:\n",
            "Class     0\n",
            "I0        0\n",
            "PA500     0\n",
            "HFS       0\n",
            "DA        0\n",
            "Area      0\n",
            "A/DA      0\n",
            "Max IP    0\n",
            "DR        0\n",
            "P         0\n",
            "dtype: int64\n"
          ]
        }
      ]
    },
    {
      "cell_type": "markdown",
      "source": [
        "### **3. EKSPLORASI DATA (VISUALISASI DATA)**"
      ],
      "metadata": {
        "id": "GbqG5DWQXA_N"
      }
    },
    {
      "cell_type": "markdown",
      "source": [
        "Eksplorasi Data adalah proses menggunakan alat visual untuk mengeksplorasi, menganalisis, dan memahami informasi yang terkandung dalam dataset dengan tujuan untuk mendapatkan pemahaman yang lebih baik serta menemukan wawasan yang berguna dari data tersebut. Salah satu tujuan dari eksplorasi data ialah agar lebih mudah untuk memahami karakteristik data."
      ],
      "metadata": {
        "id": "F8I8DNptz4q1"
      }
    },
    {
      "cell_type": "code",
      "source": [
        "import matplotlib.pyplot as plt\n",
        "\n",
        "df.hist(figsize=(14, 14))\n",
        "plt.show()"
      ],
      "metadata": {
        "colab": {
          "base_uri": "https://localhost:8080/",
          "height": 1000
        },
        "id": "GnyXf7ayzfGs",
        "outputId": "c08dc8c4-bed7-4523-b792-ed0e499efcd8"
      },
      "execution_count": null,
      "outputs": [
        {
          "output_type": "display_data",
          "data": {
            "text/plain": [
              "<Figure size 1400x1400 with 9 Axes>"
            ],
            "image/png": "[encoded data removed]"
          },
          "metadata": {}
        }
      ]
    },
    {
      "cell_type": "markdown",
      "source": [
        "### **4. OUTLIER**"
      ],
      "metadata": {
        "id": "oJ09FWE6XLIv"
      }
    },
    {
      "cell_type": "markdown",
      "source": [
        "Outlier pada dataset adalah nilai yang secara signifikan berbeda dari sebagian besar data lainnya dalam kumpulan data. Mereka bisa jauh lebih besar atau lebih kecil daripada sebagian besar nilai dalam dataset. \\\n",
        "\n",
        "Dampak dari adanya outlier pada data adalah : \\\n",
        "1. Outlier dapat mempengaruhi metrik statistik, alhasil mereka tidak mencerminkan dengan baik pusat atau sebaran sebenarnya dari sebagian besar data.\n",
        "2. Outlier bisa membuat analisis menjadi tidak akurat karena nilai yang sangat jauh dari nilai sebagian besar data dapat mempengaruhi model atau analisis yang dilakukan.\n",
        "3. Outlier dapat memiliki pengaruh yang besar pada model regresi, membuat garis regresi atau prediksi menjadi tidak representatif atau akurat; dan masih banyak lagi. \\\n",
        "\n",
        "Salah satu metode yang lebih robust (lebih baik atau konsisten) adalah menggunakan metode interquartile range (IQR) untuk mengidentifikasi outlier."
      ],
      "metadata": {
        "id": "Q6GIHoIW029x"
      }
    },
    {
      "cell_type": "markdown",
      "source": [
        "Rumus dari metode IQR adalah sebagai berikut : \\\n",
        "$$ \\text{IQR} = Q3 - Q1 $$\n",
        "\n",
        "Di mana : \\\n",
        "$ Q1 $ adalah kuartil pertama (25 persen) \\\n",
        "$ Q3 $ adalah kuartil ketiga (75 persen) \\\n",
        "\n",
        "Adapun langkah - langkah dalam menghitung IQR : \\\n",
        "1. Hitung nilai IQR.\n",
        "2. Tentukan batas atas dan batas bawah untuk outlier:\n",
        "   - Batas bawah: $ Q1 - 1.5 \\times \\text{IQR} $\n",
        "   - Batas atas: $ Q3 + 1.5 \\times \\text{IQR} $\n",
        "3. Data di luar rentang ini dianggap sebagai outlier.\n",
        "\n"
      ],
      "metadata": {
        "id": "xw82G8dc01x6"
      }
    },
    {
      "cell_type": "code",
      "source": [
        "import pandas as pd\n",
        "\n",
        "# Identifikasi outlier menggunakan metode IQR (Interquartile Range)\n",
        "Q1 = df.quantile(0.25)\n",
        "Q3 = df.quantile(0.75)\n",
        "IQR = Q3 - Q1\n",
        "outliers = ((df < (Q1 - 1.5 * IQR)) | (df > (Q3 + 1.5 * IQR))).any(axis=1)\n",
        "\n",
        "# Menampilkan jumlah outlier\n",
        "jumlah_outlier = outliers.sum()\n",
        "print(f\"Jumlah outlier: {jumlah_outlier}\")"
      ],
      "metadata": {
        "colab": {
          "base_uri": "https://localhost:8080/"
        },
        "id": "FPVPvZbj2uFk",
        "outputId": "5f6bb0b5-cd15-4d05-8f6d-73ce6e9c6346"
      },
      "execution_count": null,
      "outputs": [
        {
          "output_type": "stream",
          "name": "stdout",
          "text": [
            "Jumlah outlier: 20\n"
          ]
        },
        {
          "output_type": "stream",
          "name": "stderr",
          "text": [
            "<ipython-input-6-3034b4ebd932>:4: FutureWarning: The default value of numeric_only in DataFrame.quantile is deprecated. In a future version, it will default to False. Select only valid columns or specify the value of numeric_only to silence this warning.\n",
            "  Q1 = df.quantile(0.25)\n",
            "<ipython-input-6-3034b4ebd932>:5: FutureWarning: The default value of numeric_only in DataFrame.quantile is deprecated. In a future version, it will default to False. Select only valid columns or specify the value of numeric_only to silence this warning.\n",
            "  Q3 = df.quantile(0.75)\n",
            "<ipython-input-6-3034b4ebd932>:7: FutureWarning: Automatic reindexing on DataFrame vs Series comparisons is deprecated and will raise ValueError in a future version. Do `left, right = left.align(right, axis=1, copy=False)` before e.g. `left == right`\n",
            "  outliers = ((df < (Q1 - 1.5 * IQR)) | (df > (Q3 + 1.5 * IQR))).any(axis=1)\n"
          ]
        }
      ]
    },
    {
      "cell_type": "markdown",
      "source": [
        "### **5. DATA DUPLIKAT**"
      ],
      "metadata": {
        "id": "mAWXayw4XODI"
      }
    },
    {
      "cell_type": "markdown",
      "source": [
        "Data duplikat merujuk pada baris dalam dataset yang memiliki nilai yang sama untuk semua kolom atau atribut yang diidentifikasi. Baris-baris ini dianggap memiliki nilai yang sama persis di semua kolomnya dengan baris lain dalam dataset yang sama. Duplikat data bisa terjadi karena entri data yang sama bisa tercatat lebih dari sekali."
      ],
      "metadata": {
        "id": "GywkjmKQ2zw9"
      }
    },
    {
      "cell_type": "code",
      "source": [
        "# Identifikasi data duplikat\n",
        "duplicated_data = df[df.duplicated()]\n",
        "\n",
        "# Menampilkan jumlah data duplikat\n",
        "jumlah_duplikat = len(duplicated_data)\n",
        "print(\"Jumlah data yang duplikat:\", jumlah_duplikat)\n",
        "\n",
        "# Menampilkan baris data duplikat beserta jumlahnya\n",
        "if jumlah_duplikat > 0:\n",
        "    print(\"\\nData yang duplikat:\")\n",
        "    print(duplicated_data)\n",
        "else:\n",
        "    print(\"\\nTidak ada data yang duplikat.\")"
      ],
      "metadata": {
        "colab": {
          "base_uri": "https://localhost:8080/"
        },
        "id": "BXu-VGci354r",
        "outputId": "72836c4c-5646-4161-de9f-60025a8d2fe7"
      },
      "execution_count": null,
      "outputs": [
        {
          "output_type": "stream",
          "name": "stdout",
          "text": [
            "Jumlah data yang duplikat: 1\n",
            "\n",
            "Data yang duplikat:\n",
            "   Class     I0     PA500       HFS         DA        Area       A/DA  \\\n",
            "60   gla  197.0  0.132645  0.074002  33.460653  409.647141  12.242652   \n",
            "\n",
            "       Max IP         DR           P  \n",
            "60  26.992807  19.773813  231.783788  \n"
          ]
        }
      ]
    },
    {
      "cell_type": "markdown",
      "source": [
        "### **6. IMBALANCING**"
      ],
      "metadata": {
        "id": "CZ7k091swiYR"
      }
    },
    {
      "cell_type": "code",
      "source": [
        "df.Class.value_counts()"
      ],
      "metadata": {
        "colab": {
          "base_uri": "https://localhost:8080/"
        },
        "id": "ILei0PH25T26",
        "outputId": "4f66db37-b867-411f-aef7-3ec4deaa58f7"
      },
      "execution_count": null,
      "outputs": [
        {
          "output_type": "execute_result",
          "data": {
            "text/plain": [
              "adi    22\n",
              "car    21\n",
              "mas    18\n",
              "gla    16\n",
              "fad    15\n",
              "con    14\n",
              "Name: Class, dtype: int64"
            ]
          },
          "metadata": {},
          "execution_count": 8
        }
      ]
    },
    {
      "cell_type": "markdown",
      "source": [
        "Dari hasil di atas, data tiap kelas sedikit tidak seimbang, maka dari itu bisa dilanjut ke proses selanjutnya tanpa melakukan **balancing data**. Terkadang, ketidakseimbangan kelas pada data adalah cerminan dari dunia nyata di mana satu kelas memang jauh lebih umum daripada yang lain. Memaksakan keseimbangan bisa menghapus informasi penting yang ada dalam data. \\\n",
        "\n",
        "**Catatan :** \\\n",
        "Balancing data dilakukan apabila perbedaan jumlah data tiap kelas terlalu jomplang/besar."
      ],
      "metadata": {
        "id": "v5j8x3Rk5WvX"
      }
    },
    {
      "cell_type": "markdown",
      "source": [
        "### **7. REKAP DATA UNDERSTANDING**"
      ],
      "metadata": {
        "id": "43APy64RXgwe"
      }
    },
    {
      "cell_type": "markdown",
      "source": [
        "Dari Data Understanding di atas, dapat disimpulkan bahwa :\n",
        "1. Tidak ditemukan missing value (dataset sudah bagus).\n",
        "2. Terdapat outlier sebanyak 44 data.\n",
        "3. Terdapat data duplikat.\n",
        "4. Jumlah data setiap kelas sedikit tidak seimbang (imbalance), jadi tidak diperlukan balancing data. \\\n",
        "\n",
        "Maka dari itu bisa dilakukan beberapa penanganan seperti :\n",
        "1. Penanganan pada outlier.\n",
        "2. Penanganan pada data duplikat"
      ],
      "metadata": {
        "id": "ZObdnfcD5nyC"
      }
    },
    {
      "cell_type": "markdown",
      "source": [
        "## **PREPROCESSING**"
      ],
      "metadata": {
        "id": "KTSIZR7pX8r0"
      }
    },
    {
      "cell_type": "markdown",
      "source": [
        "Tahap preprocessing data adalah serangkaian langkah atau proses yang dilakukan pada data mentah sebelum data tersebut dimasukkan ke dalam model. Ini bertujuan untuk membersihkan, menyesuaikan, dan mempersiapkan data yang akan dipakai. Beberapa tahap umum dalam preprocessing data meliputi:\n",
        "\n",
        "1. **Pembersihan Data (Data Cleaning):** Identifikasi dan penanganan terhadap data yang hilang, tidak lengkap, atau tidak relevan. Ini bisa berupa mengisi nilai yang hilang (imputasi), menghapus baris atau kolom yang tidak relevan, atau menggunakan teknik lain untuk menangani nilai yang hilang. \\\n",
        "2. **Transformasi Data:** Melibatkan normalisasi atau standarisasi data, seperti scaling fitur ke dalam rentang tertentu, agar tidak ada fitur yang mendominasi yang lain. \\\n",
        "3. **Reduksi Dimensi (Dimensionality Reduction):** Ketika data memiliki banyak fitur (dimensi), teknik seperti PCA (Principal Component Analysis) atau seleksi fitur digunakan untuk mengurangi jumlah fitur tanpa kehilangan informasi penting. Ini dapat membantu dalam meningkatkan efisiensi dan mengurangi overfitting. \\\n",
        "4. **Encoding Data Kategorikal:** Mengubah data kategorikal menjadi bentuk numerik yang dapat dipahami oleh model. Contohnya adalah menggunakan teknik seperti One-Hot Encoding atau Label Encoding. \\\n",
        "5. **Pemisahan Data:** Memisahkan dataset menjadi data pelatihan dan data uji untuk mengevaluasi kinerja model. \\\n",
        "6. **Penanganan Outlier:** Mendeteksi dan menangani nilai-nilai ekstrem yang mungkin mempengaruhi performa model. \\\n",
        "7. **Sampling:** Jika ada ketidakseimbangan kelas, teknik seperti oversampling (menambah sampel pada kelas minoritas) atau undersampling (mengurangi sampel pada kelas mayoritas) dapat digunakan. \\\n",
        "8. **Validasi Data:** Memastikan integritas data sepanjang proses preprocessing untuk menghindari masalah yang mungkin timbul.\n",
        "\n",
        "Tentu dari tahapan umum di atas, kita tidak diharuskan untuk memakai semuanya dikarenakan kita juga harus menyesuaikan dengan data yang kita pakai.\n",
        "\n",
        "Preprocessing data memiliki beberapa manfaat yang sangat penting di antaranya adalah sebagai berikut :\n",
        "\n",
        "1. **Meningkatkan Kualitas Data:** Proses preprocessing membantu membersihkan data dari nilai yang hilang, tidak valid, atau tidak relevan. Ini meningkatkan kualitas data yang digunakan untuk melatih model. \\\n",
        "2. **Mengurangi Overfitting:** Dengan melakukan normalisasi, reduksi dimensi, atau teknik lainnya, preprocessing membantu mengurangi kompleksitas model dan kecenderungan untuk overfitting (ketika model terlalu \"menghafal\" data latih dan tidak bisa menggeneralisasi ke data baru). \\\n",
        "3. **Mengoptimalkan Kinerja Model:** Dengan memastikan data yang bersih, terstruktur, dan relevan, preprocessing membantu model untuk belajar pola yang lebih baik dari data dan menghasilkan prediksi yang lebih akurat. \\\n",
        "4. **Mempercepat Proses Pembelajaran:** Melakukan normalisasi atau standarisasi data dapat membantu dalam mempercepat konvergensi algoritma pembelajaran mesin, yang berarti model dapat belajar dengan lebih cepat dan efisien. \\\n",
        "5. **Menangani Data Tidak Seimbang:** Teknik preprocessing dapat membantu menangani ketidakseimbangan kelas dalam dataset, yang penting terutama dalam kasus klasifikasi di mana ada perbedaan besar antara jumlah sampel untuk setiap kelas. \\\n",
        "6. **Memperbaiki Kualitas Prediksi:** Dengan membersihkan data, menangani outlier, dan melakukan transformasi yang tepat, preprocessing membantu dalam meningkatkan akurasi, recall, dan presisi prediksi yang dihasilkan oleh model. \\\n",
        "7. **Meningkatkan Efisiensi Algoritma:** Reduksi dimensi, penghapusan fitur yang tidak relevan, atau teknik lainnya dapat meningkatkan efisiensi algoritma dengan mengurangi kompleksitas dan waktu komputasi. \\\n",
        "8. **Menyederhanakan Pemahaman Data:** Proses preprocessing membantu untuk menyederhanakan dan menormalkan data sehingga lebih mudah untuk dipahami dan dianalisis.\n",
        "\n",
        "Dengan demikian, preprocessing data merupakan tahap yang krusial, karena dapat mempengaruhi secara signifikan kinerja dan kehandalan model yang dihasilkan. \\\n",
        "\n",
        "Yang akan dibahas dalam preprocessing kali ini adalah sebagai berikut : \\\n",
        "1. Penanganan Outlier\n",
        "2. Penanganan Data Duplikat\n",
        "3. Feature Selection\n",
        "4. Normalisasi\n",
        "5. Spliting Data"
      ],
      "metadata": {
        "id": "eD_mdKSdp2Pw"
      }
    },
    {
      "cell_type": "markdown",
      "source": [
        "### **1. PENANGANAN OUTLIER**"
      ],
      "metadata": {
        "id": "pLZlP5P3Xmwe"
      }
    },
    {
      "cell_type": "markdown",
      "source": [
        "Salah satu cara untuk menangani outlier adalah dengan melakukan dropping outlier atau dikenal dengan menghapus data yang diidentifikasi sebagai outlier dalam dataset."
      ],
      "metadata": {
        "id": "rNMxpfne56XJ"
      }
    },
    {
      "cell_type": "code",
      "source": [
        "import pandas as pd\n",
        "\n",
        "# Menghilangkan outlier dari dataset\n",
        "df_tanpa_outlier = df[~outliers]\n",
        "\n",
        "# Menampilkan dataset tanpa outlier\n",
        "print(\"\\nDataset tanpa outlier:\")\n",
        "print(df_tanpa_outlier)"
      ],
      "metadata": {
        "colab": {
          "base_uri": "https://localhost:8080/"
        },
        "id": "wLLgU2l15-BU",
        "outputId": "c0417758-b9b1-4f22-96a1-4fa63ae8d851"
      },
      "execution_count": null,
      "outputs": [
        {
          "output_type": "stream",
          "name": "stdout",
          "text": [
            "\n",
            "Dataset tanpa outlier:\n",
            "    Class           I0     PA500       HFS          DA          Area  \\\n",
            "0     car   524.794072  0.187448  0.032114  228.800228   6843.598481   \n",
            "1     car   330.000000  0.226893  0.265290  121.154201   3163.239472   \n",
            "2     car   551.879287  0.232478  0.063530  264.804935  11888.391827   \n",
            "3     car   380.000000  0.240855  0.286234  137.640111   5402.171180   \n",
            "4     car   362.831266  0.200713  0.244346  124.912559   3290.462446   \n",
            "..    ...          ...       ...       ...         ...           ...   \n",
            "90    adi  1850.000000  0.079149  0.069470  253.621455  13113.203095   \n",
            "93    adi  1900.000000  0.054454  0.113795  272.618029   7481.593470   \n",
            "94    adi  1800.000000  0.069115  0.157080  385.564704  13831.724889   \n",
            "96    adi  1650.000000  0.047647  0.043284  274.426177   5824.895192   \n",
            "103   adi  1600.000000  0.071908 -0.066323  436.943603  12655.342135   \n",
            "\n",
            "          A/DA      Max IP          DR            P  \n",
            "0    29.910803   60.204880  220.737212   556.828334  \n",
            "1    26.109202   69.717361   99.084964   400.225776  \n",
            "2    44.894903   77.793297  253.785300   656.769449  \n",
            "3    39.248524   88.758446  105.198568   493.701814  \n",
            "4    26.342127   69.389389  103.866552   424.796503  \n",
            "..         ...         ...         ...          ...  \n",
            "90   51.703840  160.065460  196.730498  1916.985365  \n",
            "93   27.443502  138.359268  234.898496  1924.517895  \n",
            "94   35.873940  157.570007  351.897477  1823.032364  \n",
            "96   21.225727   81.239571  262.125656  1603.070348  \n",
            "103  28.963331  103.732704  432.129749  1475.371534  \n",
            "\n",
            "[86 rows x 10 columns]\n"
          ]
        }
      ]
    },
    {
      "cell_type": "markdown",
      "source": [
        "Menyimpan dataset tanpa outlier :"
      ],
      "metadata": {
        "id": "G1Bq8q3_6GTJ"
      }
    },
    {
      "cell_type": "code",
      "source": [
        "# Menyimpan dataset tanpa outlier ke dalam file CSV\n",
        "df_tanpa_outlier.to_csv('BreastTissue_No_Outlier.csv', index=False)"
      ],
      "metadata": {
        "id": "zfqMFleS6Eiq"
      },
      "execution_count": null,
      "outputs": []
    },
    {
      "cell_type": "code",
      "source": [
        "df_tanpa_outlier"
      ],
      "metadata": {
        "colab": {
          "base_uri": "https://localhost:8080/",
          "height": 423
        },
        "id": "99-15Fxs6MEU",
        "outputId": "82ea32c3-217e-4f05-b377-16981c2b9c13"
      },
      "execution_count": null,
      "outputs": [
        {
          "output_type": "execute_result",
          "data": {
            "text/plain": [
              "    Class           I0     PA500       HFS          DA          Area  \\\n",
              "0     car   524.794072  0.187448  0.032114  228.800228   6843.598481   \n",
              "1     car   330.000000  0.226893  0.265290  121.154201   3163.239472   \n",
              "2     car   551.879287  0.232478  0.063530  264.804935  11888.391827   \n",
              "3     car   380.000000  0.240855  0.286234  137.640111   5402.171180   \n",
              "4     car   362.831266  0.200713  0.244346  124.912559   3290.462446   \n",
              "..    ...          ...       ...       ...         ...           ...   \n",
              "90    adi  1850.000000  0.079149  0.069470  253.621455  13113.203095   \n",
              "93    adi  1900.000000  0.054454  0.113795  272.618029   7481.593470   \n",
              "94    adi  1800.000000  0.069115  0.157080  385.564704  13831.724889   \n",
              "96    adi  1650.000000  0.047647  0.043284  274.426177   5824.895192   \n",
              "103   adi  1600.000000  0.071908 -0.066323  436.943603  12655.342135   \n",
              "\n",
              "          A/DA      Max IP          DR            P  \n",
              "0    29.910803   60.204880  220.737212   556.828334  \n",
              "1    26.109202   69.717361   99.084964   400.225776  \n",
              "2    44.894903   77.793297  253.785300   656.769449  \n",
              "3    39.248524   88.758446  105.198568   493.701814  \n",
              "4    26.342127   69.389389  103.866552   424.796503  \n",
              "..         ...         ...         ...          ...  \n",
              "90   51.703840  160.065460  196.730498  1916.985365  \n",
              "93   27.443502  138.359268  234.898496  1924.517895  \n",
              "94   35.873940  157.570007  351.897477  1823.032364  \n",
              "96   21.225727   81.239571  262.125656  1603.070348  \n",
              "103  28.963331  103.732704  432.129749  1475.371534  \n",
              "\n",
              "[86 rows x 10 columns]"
            ],
            "text/html": [
              "\n",
              "  <div id=\"df-f2c41cc8-4ef7-49e6-90e1-0c02af78c70a\" class=\"colab-df-container\">\n",
              "    <div>\n",
              "<style scoped>\n",
              "    .dataframe tbody tr th:only-of-type {\n",
              "        vertical-align: middle;\n",
              "    }\n",
              "\n",
              "    .dataframe tbody tr th {\n",
              "        vertical-align: top;\n",
              "    }\n",
              "\n",
              "    .dataframe thead th {\n",
              "        text-align: right;\n",
              "    }\n",
              "</style>\n",
              "<table border=\"1\" class=\"dataframe\">\n",
              "  <thead>\n",
              "    <tr style=\"text-align: right;\">\n",
              "      <th></th>\n",
              "      <th>Class</th>\n",
              "      <th>I0</th>\n",
              "      <th>PA500</th>\n",
              "      <th>HFS</th>\n",
              "      <th>DA</th>\n",
              "      <th>Area</th>\n",
              "      <th>A/DA</th>\n",
              "      <th>Max IP</th>\n",
              "      <th>DR</th>\n",
              "      <th>P</th>\n",
              "    </tr>\n",
              "  </thead>\n",
              "  <tbody>\n",
              "    <tr>\n",
              "      <th>0</th>\n",
              "      <td>car</td>\n",
              "      <td>524.794072</td>\n",
              "      <td>0.187448</td>\n",
              "      <td>0.032114</td>\n",
              "      <td>228.800228</td>\n",
              "      <td>6843.598481</td>\n",
              "      <td>29.910803</td>\n",
              "      <td>60.204880</td>\n",
              "      <td>220.737212</td>\n",
              "      <td>556.828334</td>\n",
              "    </tr>\n",
              "    <tr>\n",
              "      <th>1</th>\n",
              "      <td>car</td>\n",
              "      <td>330.000000</td>\n",
              "      <td>0.226893</td>\n",
              "      <td>0.265290</td>\n",
              "      <td>121.154201</td>\n",
              "      <td>3163.239472</td>\n",
              "      <td>26.109202</td>\n",
              "      <td>69.717361</td>\n",
              "      <td>99.084964</td>\n",
              "      <td>400.225776</td>\n",
              "    </tr>\n",
              "    <tr>\n",
              "      <th>2</th>\n",
              "      <td>car</td>\n",
              "      <td>551.879287</td>\n",
              "      <td>0.232478</td>\n",
              "      <td>0.063530</td>\n",
              "      <td>264.804935</td>\n",
              "      <td>11888.391827</td>\n",
              "      <td>44.894903</td>\n",
              "      <td>77.793297</td>\n",
              "      <td>253.785300</td>\n",
              "      <td>656.769449</td>\n",
              "    </tr>\n",
              "    <tr>\n",
              "      <th>3</th>\n",
              "      <td>car</td>\n",
              "      <td>380.000000</td>\n",
              "      <td>0.240855</td>\n",
              "      <td>0.286234</td>\n",
              "      <td>137.640111</td>\n",
              "      <td>5402.171180</td>\n",
              "      <td>39.248524</td>\n",
              "      <td>88.758446</td>\n",
              "      <td>105.198568</td>\n",
              "      <td>493.701814</td>\n",
              "    </tr>\n",
              "    <tr>\n",
              "      <th>4</th>\n",
              "      <td>car</td>\n",
              "      <td>362.831266</td>\n",
              "      <td>0.200713</td>\n",
              "      <td>0.244346</td>\n",
              "      <td>124.912559</td>\n",
              "      <td>3290.462446</td>\n",
              "      <td>26.342127</td>\n",
              "      <td>69.389389</td>\n",
              "      <td>103.866552</td>\n",
              "      <td>424.796503</td>\n",
              "    </tr>\n",
              "    <tr>\n",
              "      <th>...</th>\n",
              "      <td>...</td>\n",
              "      <td>...</td>\n",
              "      <td>...</td>\n",
              "      <td>...</td>\n",
              "      <td>...</td>\n",
              "      <td>...</td>\n",
              "      <td>...</td>\n",
              "      <td>...</td>\n",
              "      <td>...</td>\n",
              "      <td>...</td>\n",
              "    </tr>\n",
              "    <tr>\n",
              "      <th>90</th>\n",
              "      <td>adi</td>\n",
              "      <td>1850.000000</td>\n",
              "      <td>0.079149</td>\n",
              "      <td>0.069470</td>\n",
              "      <td>253.621455</td>\n",
              "      <td>13113.203095</td>\n",
              "      <td>51.703840</td>\n",
              "      <td>160.065460</td>\n",
              "      <td>196.730498</td>\n",
              "      <td>1916.985365</td>\n",
              "    </tr>\n",
              "    <tr>\n",
              "      <th>93</th>\n",
              "      <td>adi</td>\n",
              "      <td>1900.000000</td>\n",
              "      <td>0.054454</td>\n",
              "      <td>0.113795</td>\n",
              "      <td>272.618029</td>\n",
              "      <td>7481.593470</td>\n",
              "      <td>27.443502</td>\n",
              "      <td>138.359268</td>\n",
              "      <td>234.898496</td>\n",
              "      <td>1924.517895</td>\n",
              "    </tr>\n",
              "    <tr>\n",
              "      <th>94</th>\n",
              "      <td>adi</td>\n",
              "      <td>1800.000000</td>\n",
              "      <td>0.069115</td>\n",
              "      <td>0.157080</td>\n",
              "      <td>385.564704</td>\n",
              "      <td>13831.724889</td>\n",
              "      <td>35.873940</td>\n",
              "      <td>157.570007</td>\n",
              "      <td>351.897477</td>\n",
              "      <td>1823.032364</td>\n",
              "    </tr>\n",
              "    <tr>\n",
              "      <th>96</th>\n",
              "      <td>adi</td>\n",
              "      <td>1650.000000</td>\n",
              "      <td>0.047647</td>\n",
              "      <td>0.043284</td>\n",
              "      <td>274.426177</td>\n",
              "      <td>5824.895192</td>\n",
              "      <td>21.225727</td>\n",
              "      <td>81.239571</td>\n",
              "      <td>262.125656</td>\n",
              "      <td>1603.070348</td>\n",
              "    </tr>\n",
              "    <tr>\n",
              "      <th>103</th>\n",
              "      <td>adi</td>\n",
              "      <td>1600.000000</td>\n",
              "      <td>0.071908</td>\n",
              "      <td>-0.066323</td>\n",
              "      <td>436.943603</td>\n",
              "      <td>12655.342135</td>\n",
              "      <td>28.963331</td>\n",
              "      <td>103.732704</td>\n",
              "      <td>432.129749</td>\n",
              "      <td>1475.371534</td>\n",
              "    </tr>\n",
              "  </tbody>\n",
              "</table>\n",
              "<p>86 rows × 10 columns</p>\n",
              "</div>\n",
              "    <div class=\"colab-df-buttons\">\n",
              "\n",
              "  <div class=\"colab-df-container\">\n",
              "    <button class=\"colab-df-convert\" onclick=\"convertToInteractive('df-f2c41cc8-4ef7-49e6-90e1-0c02af78c70a')\"\n",
              "            title=\"Convert this dataframe to an interactive table.\"\n",
              "            style=\"display:none;\">\n",
              "\n",
              "  <svg xmlns=\"http://www.w3.org/2000/svg\" height=\"24px\" viewBox=\"0 -960 960 960\">\n",
              "    <path d=\"M120-120v-720h720v720H120Zm60-500h600v-160H180v160Zm220 220h160v-160H400v160Zm0 220h160v-160H400v160ZM180-400h160v-160H180v160Zm440 0h160v-160H620v160ZM180-180h160v-160H180v160Zm440 0h160v-160H620v160Z\"/>\n",
              "  </svg>\n",
              "    </button>\n",
              "\n",
              "  <style>\n",
              "    .colab-df-container {\n",
              "      display:flex;\n",
              "      gap: 12px;\n",
              "    }\n",
              "\n",
              "    .colab-df-convert {\n",
              "      background-color: #E8F0FE;\n",
              "      border: none;\n",
              "      border-radius: 50%;\n",
              "      cursor: pointer;\n",
              "      display: none;\n",
              "      fill: #1967D2;\n",
              "      height: 32px;\n",
              "      padding: 0 0 0 0;\n",
              "      width: 32px;\n",
              "    }\n",
              "\n",
              "    .colab-df-convert:hover {\n",
              "      background-color: #E2EBFA;\n",
              "      box-shadow: 0px 1px 2px rgba(60, 64, 67, 0.3), 0px 1px 3px 1px rgba(60, 64, 67, 0.15);\n",
              "      fill: #174EA6;\n",
              "    }\n",
              "\n",
              "    .colab-df-buttons div {\n",
              "      margin-bottom: 4px;\n",
              "    }\n",
              "\n",
              "    [theme=dark] .colab-df-convert {\n",
              "      background-color: #3B4455;\n",
              "      fill: #D2E3FC;\n",
              "    }\n",
              "\n",
              "    [theme=dark] .colab-df-convert:hover {\n",
              "      background-color: #434B5C;\n",
              "      box-shadow: 0px 1px 3px 1px rgba(0, 0, 0, 0.15);\n",
              "      filter: drop-shadow(0px 1px 2px rgba(0, 0, 0, 0.3));\n",
              "      fill: #FFFFFF;\n",
              "    }\n",
              "  </style>\n",
              "\n",
              "    <script>\n",
              "      const buttonEl =\n",
              "        document.querySelector('#df-f2c41cc8-4ef7-49e6-90e1-0c02af78c70a button.colab-df-convert');\n",
              "      buttonEl.style.display =\n",
              "        google.colab.kernel.accessAllowed ? 'block' : 'none';\n",
              "\n",
              "      async function convertToInteractive(key) {\n",
              "        const element = document.querySelector('#df-f2c41cc8-4ef7-49e6-90e1-0c02af78c70a');\n",
              "        const dataTable =\n",
              "          await google.colab.kernel.invokeFunction('convertToInteractive',\n",
              "                                                    [key], {});\n",
              "        if (!dataTable) return;\n",
              "\n",
              "        const docLinkHtml = 'Like what you see? Visit the ' +\n",
              "          '<a target=\"_blank\" href=https://colab.research.google.com/notebooks/data_table.ipynb>data table notebook</a>'\n",
              "          + ' to learn more about interactive tables.';\n",
              "        element.innerHTML = '';\n",
              "        dataTable['output_type'] = 'display_data';\n",
              "        await google.colab.output.renderOutput(dataTable, element);\n",
              "        const docLink = document.createElement('div');\n",
              "        docLink.innerHTML = docLinkHtml;\n",
              "        element.appendChild(docLink);\n",
              "      }\n",
              "    </script>\n",
              "  </div>\n",
              "\n",
              "\n",
              "<div id=\"df-b6c9ae02-1d6d-4f9f-b5fd-1a78726ee7b8\">\n",
              "  <button class=\"colab-df-quickchart\" onclick=\"quickchart('df-b6c9ae02-1d6d-4f9f-b5fd-1a78726ee7b8')\"\n",
              "            title=\"Suggest charts\"\n",
              "            style=\"display:none;\">\n",
              "\n",
              "<svg xmlns=\"http://www.w3.org/2000/svg\" height=\"24px\"viewBox=\"0 0 24 24\"\n",
              "     width=\"24px\">\n",
              "    <g>\n",
              "        <path d=\"M19 3H5c-1.1 0-2 .9-2 2v14c0 1.1.9 2 2 2h14c1.1 0 2-.9 2-2V5c0-1.1-.9-2-2-2zM9 17H7v-7h2v7zm4 0h-2V7h2v10zm4 0h-2v-4h2v4z\"/>\n",
              "    </g>\n",
              "</svg>\n",
              "  </button>\n",
              "\n",
              "<style>\n",
              "  .colab-df-quickchart {\n",
              "      --bg-color: #E8F0FE;\n",
              "      --fill-color: #1967D2;\n",
              "      --hover-bg-color: #E2EBFA;\n",
              "      --hover-fill-color: #174EA6;\n",
              "      --disabled-fill-color: #AAA;\n",
              "      --disabled-bg-color: #DDD;\n",
              "  }\n",
              "\n",
              "  [theme=dark] .colab-df-quickchart {\n",
              "      --bg-color: #3B4455;\n",
              "      --fill-color: #D2E3FC;\n",
              "      --hover-bg-color: #434B5C;\n",
              "      --hover-fill-color: #FFFFFF;\n",
              "      --disabled-bg-color: #3B4455;\n",
              "      --disabled-fill-color: #666;\n",
              "  }\n",
              "\n",
              "  .colab-df-quickchart {\n",
              "    background-color: var(--bg-color);\n",
              "    border: none;\n",
              "    border-radius: 50%;\n",
              "    cursor: pointer;\n",
              "    display: none;\n",
              "    fill: var(--fill-color);\n",
              "    height: 32px;\n",
              "    padding: 0;\n",
              "    width: 32px;\n",
              "  }\n",
              "\n",
              "  .colab-df-quickchart:hover {\n",
              "    background-color: var(--hover-bg-color);\n",
              "    box-shadow: 0 1px 2px rgba(60, 64, 67, 0.3), 0 1px 3px 1px rgba(60, 64, 67, 0.15);\n",
              "    fill: var(--button-hover-fill-color);\n",
              "  }\n",
              "\n",
              "  .colab-df-quickchart-complete:disabled,\n",
              "  .colab-df-quickchart-complete:disabled:hover {\n",
              "    background-color: var(--disabled-bg-color);\n",
              "    fill: var(--disabled-fill-color);\n",
              "    box-shadow: none;\n",
              "  }\n",
              "\n",
              "  .colab-df-spinner {\n",
              "    border: 2px solid var(--fill-color);\n",
              "    border-color: transparent;\n",
              "    border-bottom-color: var(--fill-color);\n",
              "    animation:\n",
              "      spin 1s steps(1) infinite;\n",
              "  }\n",
              "\n",
              "  @keyframes spin {\n",
              "    0% {\n",
              "      border-color: transparent;\n",
              "      border-bottom-color: var(--fill-color);\n",
              "      border-left-color: var(--fill-color);\n",
              "    }\n",
              "    20% {\n",
              "      border-color: transparent;\n",
              "      border-left-color: var(--fill-color);\n",
              "      border-top-color: var(--fill-color);\n",
              "    }\n",
              "    30% {\n",
              "      border-color: transparent;\n",
              "      border-left-color: var(--fill-color);\n",
              "      border-top-color: var(--fill-color);\n",
              "      border-right-color: var(--fill-color);\n",
              "    }\n",
              "    40% {\n",
              "      border-color: transparent;\n",
              "      border-right-color: var(--fill-color);\n",
              "      border-top-color: var(--fill-color);\n",
              "    }\n",
              "    60% {\n",
              "      border-color: transparent;\n",
              "      border-right-color: var(--fill-color);\n",
              "    }\n",
              "    80% {\n",
              "      border-color: transparent;\n",
              "      border-right-color: var(--fill-color);\n",
              "      border-bottom-color: var(--fill-color);\n",
              "    }\n",
              "    90% {\n",
              "      border-color: transparent;\n",
              "      border-bottom-color: var(--fill-color);\n",
              "    }\n",
              "  }\n",
              "</style>\n",
              "\n",
              "  <script>\n",
              "    async function quickchart(key) {\n",
              "      const quickchartButtonEl =\n",
              "        document.querySelector('#' + key + ' button');\n",
              "      quickchartButtonEl.disabled = true;  // To prevent multiple clicks.\n",
              "      quickchartButtonEl.classList.add('colab-df-spinner');\n",
              "      try {\n",
              "        const charts = await google.colab.kernel.invokeFunction(\n",
              "            'suggestCharts', [key], {});\n",
              "      } catch (error) {\n",
              "        console.error('Error during call to suggestCharts:', error);\n",
              "      }\n",
              "      quickchartButtonEl.classList.remove('colab-df-spinner');\n",
              "      quickchartButtonEl.classList.add('colab-df-quickchart-complete');\n",
              "    }\n",
              "    (() => {\n",
              "      let quickchartButtonEl =\n",
              "        document.querySelector('#df-b6c9ae02-1d6d-4f9f-b5fd-1a78726ee7b8 button');\n",
              "      quickchartButtonEl.style.display =\n",
              "        google.colab.kernel.accessAllowed ? 'block' : 'none';\n",
              "    })();\n",
              "  </script>\n",
              "</div>\n",
              "    </div>\n",
              "  </div>\n"
            ]
          },
          "metadata": {},
          "execution_count": 10
        }
      ]
    },
    {
      "cell_type": "markdown",
      "source": [
        "### **2. PENANGANAN DATA DUPLIKAT**"
      ],
      "metadata": {
        "id": "Muo2KTcsXqzx"
      }
    },
    {
      "cell_type": "markdown",
      "source": [
        "Untuk menangani data duplikat kita juga bisa menghapus data tersebut dari dataset."
      ],
      "metadata": {
        "id": "c2zUr4GE6TMs"
      }
    },
    {
      "cell_type": "code",
      "source": [
        "# Memakai df_tanpa_outlier, karena telah menghapus outlier\n",
        "jumlah_duplikat = df_tanpa_outlier.duplicated().sum()\n",
        "\n",
        "# Menghapus data yang duplikat\n",
        "data_bersih = df_tanpa_outlier.drop_duplicates()\n",
        "\n",
        "print(\"Banyaknya data : \", data_bersih.shape)"
      ],
      "metadata": {
        "colab": {
          "base_uri": "https://localhost:8080/"
        },
        "id": "sRDT1qyA6YeY",
        "outputId": "92280690-3564-48fa-c991-4e070075720a"
      },
      "execution_count": null,
      "outputs": [
        {
          "output_type": "stream",
          "name": "stdout",
          "text": [
            "Banyaknya data :  (85, 10)\n"
          ]
        }
      ]
    },
    {
      "cell_type": "markdown",
      "source": [
        "Menyimpan dataset tanpa outlier dan duplikat data :"
      ],
      "metadata": {
        "id": "m8gVqT2I6gZw"
      }
    },
    {
      "cell_type": "code",
      "source": [
        "# Menyimpan dataset tanpa data duplikat ke dalam file CSV\n",
        "data_bersih.to_csv('BreastTissue_No_Outlier_No_Duplikat.csv', index=False)"
      ],
      "metadata": {
        "id": "_dTnkpFC6er5"
      },
      "execution_count": null,
      "outputs": []
    },
    {
      "cell_type": "code",
      "source": [
        "data_bersih"
      ],
      "metadata": {
        "colab": {
          "base_uri": "https://localhost:8080/",
          "height": 423
        },
        "id": "hAJ8klq66nvd",
        "outputId": "79b8b6dd-e728-4ac7-e4f6-5044e28617c1"
      },
      "execution_count": null,
      "outputs": [
        {
          "output_type": "execute_result",
          "data": {
            "text/plain": [
              "    Class           I0     PA500       HFS          DA          Area  \\\n",
              "0     car   524.794072  0.187448  0.032114  228.800228   6843.598481   \n",
              "1     car   330.000000  0.226893  0.265290  121.154201   3163.239472   \n",
              "2     car   551.879287  0.232478  0.063530  264.804935  11888.391827   \n",
              "3     car   380.000000  0.240855  0.286234  137.640111   5402.171180   \n",
              "4     car   362.831266  0.200713  0.244346  124.912559   3290.462446   \n",
              "..    ...          ...       ...       ...         ...           ...   \n",
              "90    adi  1850.000000  0.079149  0.069470  253.621455  13113.203095   \n",
              "93    adi  1900.000000  0.054454  0.113795  272.618029   7481.593470   \n",
              "94    adi  1800.000000  0.069115  0.157080  385.564704  13831.724889   \n",
              "96    adi  1650.000000  0.047647  0.043284  274.426177   5824.895192   \n",
              "103   adi  1600.000000  0.071908 -0.066323  436.943603  12655.342135   \n",
              "\n",
              "          A/DA      Max IP          DR            P  \n",
              "0    29.910803   60.204880  220.737212   556.828334  \n",
              "1    26.109202   69.717361   99.084964   400.225776  \n",
              "2    44.894903   77.793297  253.785300   656.769449  \n",
              "3    39.248524   88.758446  105.198568   493.701814  \n",
              "4    26.342127   69.389389  103.866552   424.796503  \n",
              "..         ...         ...         ...          ...  \n",
              "90   51.703840  160.065460  196.730498  1916.985365  \n",
              "93   27.443502  138.359268  234.898496  1924.517895  \n",
              "94   35.873940  157.570007  351.897477  1823.032364  \n",
              "96   21.225727   81.239571  262.125656  1603.070348  \n",
              "103  28.963331  103.732704  432.129749  1475.371534  \n",
              "\n",
              "[85 rows x 10 columns]"
            ],
            "text/html": [
              "\n",
              "  <div id=\"df-dfdc14c6-faa1-48cc-baa9-6bb58b746e0c\" class=\"colab-df-container\">\n",
              "    <div>\n",
              "<style scoped>\n",
              "    .dataframe tbody tr th:only-of-type {\n",
              "        vertical-align: middle;\n",
              "    }\n",
              "\n",
              "    .dataframe tbody tr th {\n",
              "        vertical-align: top;\n",
              "    }\n",
              "\n",
              "    .dataframe thead th {\n",
              "        text-align: right;\n",
              "    }\n",
              "</style>\n",
              "<table border=\"1\" class=\"dataframe\">\n",
              "  <thead>\n",
              "    <tr style=\"text-align: right;\">\n",
              "      <th></th>\n",
              "      <th>Class</th>\n",
              "      <th>I0</th>\n",
              "      <th>PA500</th>\n",
              "      <th>HFS</th>\n",
              "      <th>DA</th>\n",
              "      <th>Area</th>\n",
              "      <th>A/DA</th>\n",
              "      <th>Max IP</th>\n",
              "      <th>DR</th>\n",
              "      <th>P</th>\n",
              "    </tr>\n",
              "  </thead>\n",
              "  <tbody>\n",
              "    <tr>\n",
              "      <th>0</th>\n",
              "      <td>car</td>\n",
              "      <td>524.794072</td>\n",
              "      <td>0.187448</td>\n",
              "      <td>0.032114</td>\n",
              "      <td>228.800228</td>\n",
              "      <td>6843.598481</td>\n",
              "      <td>29.910803</td>\n",
              "      <td>60.204880</td>\n",
              "      <td>220.737212</td>\n",
              "      <td>556.828334</td>\n",
              "    </tr>\n",
              "    <tr>\n",
              "      <th>1</th>\n",
              "      <td>car</td>\n",
              "      <td>330.000000</td>\n",
              "      <td>0.226893</td>\n",
              "      <td>0.265290</td>\n",
              "      <td>121.154201</td>\n",
              "      <td>3163.239472</td>\n",
              "      <td>26.109202</td>\n",
              "      <td>69.717361</td>\n",
              "      <td>99.084964</td>\n",
              "      <td>400.225776</td>\n",
              "    </tr>\n",
              "    <tr>\n",
              "      <th>2</th>\n",
              "      <td>car</td>\n",
              "      <td>551.879287</td>\n",
              "      <td>0.232478</td>\n",
              "      <td>0.063530</td>\n",
              "      <td>264.804935</td>\n",
              "      <td>11888.391827</td>\n",
              "      <td>44.894903</td>\n",
              "      <td>77.793297</td>\n",
              "      <td>253.785300</td>\n",
              "      <td>656.769449</td>\n",
              "    </tr>\n",
              "    <tr>\n",
              "      <th>3</th>\n",
              "      <td>car</td>\n",
              "      <td>380.000000</td>\n",
              "      <td>0.240855</td>\n",
              "      <td>0.286234</td>\n",
              "      <td>137.640111</td>\n",
              "      <td>5402.171180</td>\n",
              "      <td>39.248524</td>\n",
              "      <td>88.758446</td>\n",
              "      <td>105.198568</td>\n",
              "      <td>493.701814</td>\n",
              "    </tr>\n",
              "    <tr>\n",
              "      <th>4</th>\n",
              "      <td>car</td>\n",
              "      <td>362.831266</td>\n",
              "      <td>0.200713</td>\n",
              "      <td>0.244346</td>\n",
              "      <td>124.912559</td>\n",
              "      <td>3290.462446</td>\n",
              "      <td>26.342127</td>\n",
              "      <td>69.389389</td>\n",
              "      <td>103.866552</td>\n",
              "      <td>424.796503</td>\n",
              "    </tr>\n",
              "    <tr>\n",
              "      <th>...</th>\n",
              "      <td>...</td>\n",
              "      <td>...</td>\n",
              "      <td>...</td>\n",
              "      <td>...</td>\n",
              "      <td>...</td>\n",
              "      <td>...</td>\n",
              "      <td>...</td>\n",
              "      <td>...</td>\n",
              "      <td>...</td>\n",
              "      <td>...</td>\n",
              "    </tr>\n",
              "    <tr>\n",
              "      <th>90</th>\n",
              "      <td>adi</td>\n",
              "      <td>1850.000000</td>\n",
              "      <td>0.079149</td>\n",
              "      <td>0.069470</td>\n",
              "      <td>253.621455</td>\n",
              "      <td>13113.203095</td>\n",
              "      <td>51.703840</td>\n",
              "      <td>160.065460</td>\n",
              "      <td>196.730498</td>\n",
              "      <td>1916.985365</td>\n",
              "    </tr>\n",
              "    <tr>\n",
              "      <th>93</th>\n",
              "      <td>adi</td>\n",
              "      <td>1900.000000</td>\n",
              "      <td>0.054454</td>\n",
              "      <td>0.113795</td>\n",
              "      <td>272.618029</td>\n",
              "      <td>7481.593470</td>\n",
              "      <td>27.443502</td>\n",
              "      <td>138.359268</td>\n",
              "      <td>234.898496</td>\n",
              "      <td>1924.517895</td>\n",
              "    </tr>\n",
              "    <tr>\n",
              "      <th>94</th>\n",
              "      <td>adi</td>\n",
              "      <td>1800.000000</td>\n",
              "      <td>0.069115</td>\n",
              "      <td>0.157080</td>\n",
              "      <td>385.564704</td>\n",
              "      <td>13831.724889</td>\n",
              "      <td>35.873940</td>\n",
              "      <td>157.570007</td>\n",
              "      <td>351.897477</td>\n",
              "      <td>1823.032364</td>\n",
              "    </tr>\n",
              "    <tr>\n",
              "      <th>96</th>\n",
              "      <td>adi</td>\n",
              "      <td>1650.000000</td>\n",
              "      <td>0.047647</td>\n",
              "      <td>0.043284</td>\n",
              "      <td>274.426177</td>\n",
              "      <td>5824.895192</td>\n",
              "      <td>21.225727</td>\n",
              "      <td>81.239571</td>\n",
              "      <td>262.125656</td>\n",
              "      <td>1603.070348</td>\n",
              "    </tr>\n",
              "    <tr>\n",
              "      <th>103</th>\n",
              "      <td>adi</td>\n",
              "      <td>1600.000000</td>\n",
              "      <td>0.071908</td>\n",
              "      <td>-0.066323</td>\n",
              "      <td>436.943603</td>\n",
              "      <td>12655.342135</td>\n",
              "      <td>28.963331</td>\n",
              "      <td>103.732704</td>\n",
              "      <td>432.129749</td>\n",
              "      <td>1475.371534</td>\n",
              "    </tr>\n",
              "  </tbody>\n",
              "</table>\n",
              "<p>85 rows × 10 columns</p>\n",
              "</div>\n",
              "    <div class=\"colab-df-buttons\">\n",
              "\n",
              "  <div class=\"colab-df-container\">\n",
              "    <button class=\"colab-df-convert\" onclick=\"convertToInteractive('df-dfdc14c6-faa1-48cc-baa9-6bb58b746e0c')\"\n",
              "            title=\"Convert this dataframe to an interactive table.\"\n",
              "            style=\"display:none;\">\n",
              "\n",
              "  <svg xmlns=\"http://www.w3.org/2000/svg\" height=\"24px\" viewBox=\"0 -960 960 960\">\n",
              "    <path d=\"M120-120v-720h720v720H120Zm60-500h600v-160H180v160Zm220 220h160v-160H400v160Zm0 220h160v-160H400v160ZM180-400h160v-160H180v160Zm440 0h160v-160H620v160ZM180-180h160v-160H180v160Zm440 0h160v-160H620v160Z\"/>\n",
              "  </svg>\n",
              "    </button>\n",
              "\n",
              "  <style>\n",
              "    .colab-df-container {\n",
              "      display:flex;\n",
              "      gap: 12px;\n",
              "    }\n",
              "\n",
              "    .colab-df-convert {\n",
              "      background-color: #E8F0FE;\n",
              "      border: none;\n",
              "      border-radius: 50%;\n",
              "      cursor: pointer;\n",
              "      display: none;\n",
              "      fill: #1967D2;\n",
              "      height: 32px;\n",
              "      padding: 0 0 0 0;\n",
              "      width: 32px;\n",
              "    }\n",
              "\n",
              "    .colab-df-convert:hover {\n",
              "      background-color: #E2EBFA;\n",
              "      box-shadow: 0px 1px 2px rgba(60, 64, 67, 0.3), 0px 1px 3px 1px rgba(60, 64, 67, 0.15);\n",
              "      fill: #174EA6;\n",
              "    }\n",
              "\n",
              "    .colab-df-buttons div {\n",
              "      margin-bottom: 4px;\n",
              "    }\n",
              "\n",
              "    [theme=dark] .colab-df-convert {\n",
              "      background-color: #3B4455;\n",
              "      fill: #D2E3FC;\n",
              "    }\n",
              "\n",
              "    [theme=dark] .colab-df-convert:hover {\n",
              "      background-color: #434B5C;\n",
              "      box-shadow: 0px 1px 3px 1px rgba(0, 0, 0, 0.15);\n",
              "      filter: drop-shadow(0px 1px 2px rgba(0, 0, 0, 0.3));\n",
              "      fill: #FFFFFF;\n",
              "    }\n",
              "  </style>\n",
              "\n",
              "    <script>\n",
              "      const buttonEl =\n",
              "        document.querySelector('#df-dfdc14c6-faa1-48cc-baa9-6bb58b746e0c button.colab-df-convert');\n",
              "      buttonEl.style.display =\n",
              "        google.colab.kernel.accessAllowed ? 'block' : 'none';\n",
              "\n",
              "      async function convertToInteractive(key) {\n",
              "        const element = document.querySelector('#df-dfdc14c6-faa1-48cc-baa9-6bb58b746e0c');\n",
              "        const dataTable =\n",
              "          await google.colab.kernel.invokeFunction('convertToInteractive',\n",
              "                                                    [key], {});\n",
              "        if (!dataTable) return;\n",
              "\n",
              "        const docLinkHtml = 'Like what you see? Visit the ' +\n",
              "          '<a target=\"_blank\" href=https://colab.research.google.com/notebooks/data_table.ipynb>data table notebook</a>'\n",
              "          + ' to learn more about interactive tables.';\n",
              "        element.innerHTML = '';\n",
              "        dataTable['output_type'] = 'display_data';\n",
              "        await google.colab.output.renderOutput(dataTable, element);\n",
              "        const docLink = document.createElement('div');\n",
              "        docLink.innerHTML = docLinkHtml;\n",
              "        element.appendChild(docLink);\n",
              "      }\n",
              "    </script>\n",
              "  </div>\n",
              "\n",
              "\n",
              "<div id=\"df-aa29127c-20ac-43d8-b3eb-bd41c699fcb9\">\n",
              "  <button class=\"colab-df-quickchart\" onclick=\"quickchart('df-aa29127c-20ac-43d8-b3eb-bd41c699fcb9')\"\n",
              "            title=\"Suggest charts\"\n",
              "            style=\"display:none;\">\n",
              "\n",
              "<svg xmlns=\"http://www.w3.org/2000/svg\" height=\"24px\"viewBox=\"0 0 24 24\"\n",
              "     width=\"24px\">\n",
              "    <g>\n",
              "        <path d=\"M19 3H5c-1.1 0-2 .9-2 2v14c0 1.1.9 2 2 2h14c1.1 0 2-.9 2-2V5c0-1.1-.9-2-2-2zM9 17H7v-7h2v7zm4 0h-2V7h2v10zm4 0h-2v-4h2v4z\"/>\n",
              "    </g>\n",
              "</svg>\n",
              "  </button>\n",
              "\n",
              "<style>\n",
              "  .colab-df-quickchart {\n",
              "      --bg-color: #E8F0FE;\n",
              "      --fill-color: #1967D2;\n",
              "      --hover-bg-color: #E2EBFA;\n",
              "      --hover-fill-color: #174EA6;\n",
              "      --disabled-fill-color: #AAA;\n",
              "      --disabled-bg-color: #DDD;\n",
              "  }\n",
              "\n",
              "  [theme=dark] .colab-df-quickchart {\n",
              "      --bg-color: #3B4455;\n",
              "      --fill-color: #D2E3FC;\n",
              "      --hover-bg-color: #434B5C;\n",
              "      --hover-fill-color: #FFFFFF;\n",
              "      --disabled-bg-color: #3B4455;\n",
              "      --disabled-fill-color: #666;\n",
              "  }\n",
              "\n",
              "  .colab-df-quickchart {\n",
              "    background-color: var(--bg-color);\n",
              "    border: none;\n",
              "    border-radius: 50%;\n",
              "    cursor: pointer;\n",
              "    display: none;\n",
              "    fill: var(--fill-color);\n",
              "    height: 32px;\n",
              "    padding: 0;\n",
              "    width: 32px;\n",
              "  }\n",
              "\n",
              "  .colab-df-quickchart:hover {\n",
              "    background-color: var(--hover-bg-color);\n",
              "    box-shadow: 0 1px 2px rgba(60, 64, 67, 0.3), 0 1px 3px 1px rgba(60, 64, 67, 0.15);\n",
              "    fill: var(--button-hover-fill-color);\n",
              "  }\n",
              "\n",
              "  .colab-df-quickchart-complete:disabled,\n",
              "  .colab-df-quickchart-complete:disabled:hover {\n",
              "    background-color: var(--disabled-bg-color);\n",
              "    fill: var(--disabled-fill-color);\n",
              "    box-shadow: none;\n",
              "  }\n",
              "\n",
              "  .colab-df-spinner {\n",
              "    border: 2px solid var(--fill-color);\n",
              "    border-color: transparent;\n",
              "    border-bottom-color: var(--fill-color);\n",
              "    animation:\n",
              "      spin 1s steps(1) infinite;\n",
              "  }\n",
              "\n",
              "  @keyframes spin {\n",
              "    0% {\n",
              "      border-color: transparent;\n",
              "      border-bottom-color: var(--fill-color);\n",
              "      border-left-color: var(--fill-color);\n",
              "    }\n",
              "    20% {\n",
              "      border-color: transparent;\n",
              "      border-left-color: var(--fill-color);\n",
              "      border-top-color: var(--fill-color);\n",
              "    }\n",
              "    30% {\n",
              "      border-color: transparent;\n",
              "      border-left-color: var(--fill-color);\n",
              "      border-top-color: var(--fill-color);\n",
              "      border-right-color: var(--fill-color);\n",
              "    }\n",
              "    40% {\n",
              "      border-color: transparent;\n",
              "      border-right-color: var(--fill-color);\n",
              "      border-top-color: var(--fill-color);\n",
              "    }\n",
              "    60% {\n",
              "      border-color: transparent;\n",
              "      border-right-color: var(--fill-color);\n",
              "    }\n",
              "    80% {\n",
              "      border-color: transparent;\n",
              "      border-right-color: var(--fill-color);\n",
              "      border-bottom-color: var(--fill-color);\n",
              "    }\n",
              "    90% {\n",
              "      border-color: transparent;\n",
              "      border-bottom-color: var(--fill-color);\n",
              "    }\n",
              "  }\n",
              "</style>\n",
              "\n",
              "  <script>\n",
              "    async function quickchart(key) {\n",
              "      const quickchartButtonEl =\n",
              "        document.querySelector('#' + key + ' button');\n",
              "      quickchartButtonEl.disabled = true;  // To prevent multiple clicks.\n",
              "      quickchartButtonEl.classList.add('colab-df-spinner');\n",
              "      try {\n",
              "        const charts = await google.colab.kernel.invokeFunction(\n",
              "            'suggestCharts', [key], {});\n",
              "      } catch (error) {\n",
              "        console.error('Error during call to suggestCharts:', error);\n",
              "      }\n",
              "      quickchartButtonEl.classList.remove('colab-df-spinner');\n",
              "      quickchartButtonEl.classList.add('colab-df-quickchart-complete');\n",
              "    }\n",
              "    (() => {\n",
              "      let quickchartButtonEl =\n",
              "        document.querySelector('#df-aa29127c-20ac-43d8-b3eb-bd41c699fcb9 button');\n",
              "      quickchartButtonEl.style.display =\n",
              "        google.colab.kernel.accessAllowed ? 'block' : 'none';\n",
              "    })();\n",
              "  </script>\n",
              "</div>\n",
              "    </div>\n",
              "  </div>\n"
            ]
          },
          "metadata": {},
          "execution_count": 12
        }
      ]
    },
    {
      "cell_type": "markdown",
      "source": [
        "### **3. FEATURE SELECTION**"
      ],
      "metadata": {
        "id": "Nb2yDsS46uOd"
      }
    },
    {
      "cell_type": "markdown",
      "source": [
        "Feature selection (seleksi fitur) adalah proses memilih subset fitur yang paling relevan atau informatif dari sekumpulan fitur yang tersedia dalam dataset. Tujuannya adalah untuk mengurangi kompleksitas model, meningkatkan akurasi, mempercepat waktu komputasi, dan menghindari overfitting dengan menggunakan hanya fitur-fitur yang paling penting atau relevan dalam pembuatan prediksi. \\\n",
        "**Kali ini memakai Mutual Information**.\n"
      ],
      "metadata": {
        "id": "8NITxdTJ6zxT"
      }
    },
    {
      "cell_type": "markdown",
      "source": [
        "Metode Mutual Information adalah salah satu teknik yang digunakan dalam pemilihan fitur untuk menentukan seberapa informatif atau berkorelasi suatu fitur dengan variabel target dalam dataset. \\\n",
        "Dalam konteks pemilihan fitur, Mutual Information mengukur seberapa banyak informasi dari fitur-fitur yang terkandung dalam variabel target. \\\n",
        "Berikut adalah rumus dari Mutual Information : \\\n",
        "$$ I(X;Y) = \\sum_{x \\in X} \\sum_{y \\in Y} P(x, y) \\cdot \\log \\left( \\frac{P(x, y)}{P(x) \\cdot P(y)} \\right) $$\n",
        "\n",
        "Dimana : \\\n",
        "- $I(X;Y)$ adalah Mutual Information antara variabel $X$ dan $Y$\n",
        "- $p(x,y)$ adalah probabilitas bersama dari $X$ dan $Y$.\n",
        "- $p(x)$ dan $p(y)$ adalah probabilitas marginal dari $X$ dan $Y$ masing - masing. \\\n",
        "\n",
        "Berikut langkah-langkah dalam perhitungan Mutual Information antara dua variabel acak $( X )$ dan $( Y )$:\n",
        "\n",
        "1. **Hitung Probabilitas Marginal:**\n",
        "   - Hitung probabilitas marginal untuk setiap variabel. Misalnya, $( P(x))$ adalah probabilitas munculnya nilai x untuk variabel $( X )$, dan $( P(x))$ adalah probabilitas munculnya nilai y untuk variabel $( Y )$. \\\n",
        "2. **Hitung Probabilitas Bersama:**\n",
        "   - Hitung probabilitas bersama $( P(x, y) )$, yaitu probabilitas bahwa variabel $( X )$ mengambil nilai x dan variabel $( Y )$ mengambil nilai y pada saat yang sama. \\\n",
        "3. **Gunakan Rumus Mutual Information:**\n",
        "   - Gunakan rumus Mutual Information dengan nilai probabilitas yang telah dihitung sebelumnya. \\\n",
        "4. **Perhitungan Total Mutual Information:**\n",
        "   - Jumlahkan nilai hasil dari rumus Mutual Information untuk semua nilai yang mungkin dari $( X )$ dan $( Y )$ (semua kombinasi nilai dari variabel). \\\n"
      ],
      "metadata": {
        "id": "ElvzIanO66-l"
      }
    },
    {
      "cell_type": "code",
      "source": [
        "from sklearn.feature_selection import SelectKBest, mutual_info_classif\n",
        "import matplotlib.pyplot as plt\n",
        "\n",
        "# Pisahkan fitur dan target\n",
        "X = data_bersih.drop(columns=['Class'])  # Fitur\n",
        "y = data_bersih['Class']  # Target\n",
        "\n",
        "importances = mutual_info_classif(X, y)\n",
        "feat_importances = pd.Series(importances, index=X.columns)\n",
        "feat_importances.plot(kind='barh', color='skyblue')\n",
        "plt.show()"
      ],
      "metadata": {
        "colab": {
          "base_uri": "https://localhost:8080/",
          "height": 430
        },
        "id": "Ie4Vv5mAHkTP",
        "outputId": "d71812ae-613c-4620-a9f0-a39d95b7eb63"
      },
      "execution_count": null,
      "outputs": [
        {
          "output_type": "display_data",
          "data": {
            "text/plain": [
              "<Figure size 640x480 with 1 Axes>"
            ],
            "image/png": "[encoded data removed]"
          },
          "metadata": {}
        }
      ]
    },
    {
      "cell_type": "code",
      "source": [
        "from sklearn.feature_selection import SelectKBest, mutual_info_classif\n",
        "# Pisahkan fitur dan target\n",
        "X = data_bersih.drop(columns=['Class'])  # Fitur\n",
        "y = data_bersih['Class']  # Target\n",
        "\n",
        "# Inisialisasi SelectKBest dengan mutual_info_classif sebagai skor fungsi\n",
        "# Pilih k fitur terbaik\n",
        "k_best = SelectKBest(mutual_info_classif, k='all')\n",
        "\n",
        "# Terapkan seleksi pada data\n",
        "X_new = k_best.fit_transform(X, y)\n",
        "\n",
        "# Dapatkan peringkat fitur\n",
        "feature_ranks = k_best.scores_\n",
        "\n",
        "# Gabungkan nama fitur dan peringkatnya\n",
        "feature_rank_df = pd.DataFrame({'Feature': X.columns, 'Rank': feature_ranks})\n",
        "\n",
        "# Urutkan berdasarkan peringkat\n",
        "feature_rank_df = feature_rank_df.sort_values(by='Rank', ascending=False)\n",
        "\n",
        "# Tampilkan hasil\n",
        "print(feature_rank_df)"
      ],
      "metadata": {
        "colab": {
          "base_uri": "https://localhost:8080/"
        },
        "id": "2AJ8_uVVHoiW",
        "outputId": "138d52e2-bb6f-4a58-8a88-ebb24b28494a"
      },
      "execution_count": null,
      "outputs": [
        {
          "output_type": "stream",
          "name": "stdout",
          "text": [
            "  Feature      Rank\n",
            "3      DA  0.762234\n",
            "8       P  0.729748\n",
            "0      I0  0.712739\n",
            "7      DR  0.637397\n",
            "6  Max IP  0.576558\n",
            "4    Area  0.482531\n",
            "1   PA500  0.413654\n",
            "5    A/DA  0.371851\n",
            "2     HFS  0.209974\n"
          ]
        }
      ]
    },
    {
      "cell_type": "markdown",
      "source": [
        "### **4. NORMALISASI MINMAX**"
      ],
      "metadata": {
        "id": "Eo-H6xhAHtgw"
      }
    },
    {
      "cell_type": "markdown",
      "source": [
        "Normalisasi Min-Max adalah teknik normalisasi yang digunakan dalam pre-processing data untuk mengubah nilai fitur menjadi rentang tertentu. Tujuannya adalah untuk membawa nilai-nilai fitur ke dalam rentang yang spesifik, biasanya antara 0 dan 1, tetapi bisa juga rentang lain yang diinginkan.\n",
        "\n",
        "Langkah-langkah normalisasi Min-Max:\n",
        "\n",
        "1. Pilih rentang: Biasanya, rentang yang dipilih adalah antara 0 dan 1.\n",
        "2. Hitung nilai minimum dan maksimum: Temukan nilai minimum (min) dan maksimum (max) dari setiap fitur yang akan dinormalisasi.\n",
        "3. Gunakan rumus normalisasi Min-Max: Untuk setiap nilai fitur xx, terapkan rumus normalisasi Min-Max:\n",
        "\n",
        "Rumus normalisasi Min-Max:\n",
        "\n",
        "$$ X' = \\frac{X - min}{max - min} $$\n",
        "\n",
        "di mana:\n",
        "- $X'$ adalah nilai fitur yang telah dinormalisasi,\n",
        "- $min$ adalah nilai minimum dari fitur,\n",
        "- $max$ adalah nilai maksimum dari fitur, dan\n",
        "- $X$ adalah nilai asli dari fitur.\n",
        "\n"
      ],
      "metadata": {
        "id": "nPekrq2qHv0h"
      }
    },
    {
      "cell_type": "markdown",
      "source": [
        "**Contoh :** \\\n",
        "\n",
        "| X | X' |\n",
        "|-----|------|\n",
        "| 20  | 0.5  |\n",
        "| 30  | 1    |\n",
        "| 15  | 0.25 |\n",
        "| 25  | 0.75 |\n",
        "| 10  | 10   |\n",
        "\n",
        "Langkah-langkah normalisasi Min-Max untuk kolom Nilai:\n",
        "1. Temukan nilai minimum (min) dan nilai maksimum (max) dari kolom Nilai.\n",
        "   - \\(min = 10\\)\n",
        "   - \\(max = 30\\)\n",
        "2. Gunakan rumus normalisasi Min-Max untuk setiap nilai dalam kolom Nilai: \\\n",
        "\n",
        "- Untuk \\($X$ = 20\\): \\\n",
        "  $X'$ = $\\frac{20 - 10}{30 - 10}$ = $\\frac{10}{20}$ = 0.5\n",
        "\n",
        "- Untuk \\($X$ = 30\\): \\\n",
        "  $X'$ = $\\frac{30 - 10}{30 - 10}$ = $\\frac{20}{20}$ = 1\n",
        "\n",
        "- Untuk \\($X$ = 15\\): \\\n",
        "  $X'$ = $\\frac{15 - 10}{30 - 10}$ = $\\frac{5}{20}$ = 0.25\n",
        "\n",
        "- Untuk \\($X$ = 25\\): \\\n",
        "  $X'$ = $\\frac{25 - 10}{30 - 10}$ = $\\frac{15}{20}$ = 0.75\n",
        "\n",
        "- Untuk \\($X$ = 10\\): \\\n",
        "   $X'$ = $\\frac{10 - 10}{30 - 10}$ = $\\frac{0}{20}$ = 0"
      ],
      "metadata": {
        "id": "UEMBKpyYH2AF"
      }
    },
    {
      "cell_type": "code",
      "source": [
        "import pandas as pd\n",
        "from sklearn.preprocessing import MinMaxScaler\n",
        "\n",
        "data_norm = pd.read_csv('/content/drive/MyDrive/PSDKris3/BreastTissue_No_Outlier_No_Duplikat.csv')\n",
        "X=data_norm.drop(columns=['Class'], axis =1)\n",
        "y=data_norm['Class']\n",
        "\n",
        "# Normalisasi menggunakan MinMaxScaler\n",
        "scaler = MinMaxScaler()\n",
        "X_normalized = scaler.fit_transform(X)\n",
        "\n",
        "# Membuat DataFrame dari data yang telah dinormalisasi\n",
        "data_normalized = pd.DataFrame(X_normalized, columns=X.columns)"
      ],
      "metadata": {
        "id": "XBmXuES2IJfu"
      },
      "execution_count": null,
      "outputs": []
    },
    {
      "cell_type": "code",
      "source": [
        "data_normalized"
      ],
      "metadata": {
        "colab": {
          "base_uri": "https://localhost:8080/",
          "height": 423
        },
        "id": "rJ2aUK3gINgO",
        "outputId": "6f3cdc31-400c-4ae2-e13b-8c4ec5e34f9a"
      },
      "execution_count": null,
      "outputs": [
        {
          "output_type": "execute_result",
          "data": {
            "text/plain": [
              "          I0     PA500       HFS        DA      Area      A/DA    Max IP  \\\n",
              "0   0.211214  0.573143  0.270633  0.501209  0.408754  0.565080  0.343440   \n",
              "1   0.113671  0.702286  0.911708  0.243248  0.186648  0.489212  0.405982   \n",
              "2   0.224777  0.720571  0.357006  0.587490  0.713202  0.864115  0.459080   \n",
              "3   0.138708  0.748000  0.969290  0.282755  0.321765  0.751431  0.531173   \n",
              "4   0.130111  0.616571  0.854127  0.252255  0.194326  0.493860  0.403826   \n",
              "..       ...       ...       ...       ...       ...       ...       ...   \n",
              "80  0.874812  0.218566  0.373337  0.560690  0.787118  1.000000  1.000000   \n",
              "81  0.899850  0.137714  0.495202  0.606213  0.447256  0.515840  0.857287   \n",
              "82  0.849775  0.185714  0.614203  0.876877  0.830480  0.684085  0.983593   \n",
              "83  0.774662  0.115429  0.301344  0.610546  0.347276  0.391753  0.481738   \n",
              "84  0.749624  0.194857  0.000000  1.000000  0.759486  0.546171  0.629625   \n",
              "\n",
              "          DR         P  \n",
              "0   0.504250  0.221683  \n",
              "1   0.218955  0.141294  \n",
              "2   0.581753  0.272986  \n",
              "3   0.233292  0.189278  \n",
              "4   0.230169  0.153907  \n",
              "..       ...       ...  \n",
              "80  0.447950  0.919898  \n",
              "81  0.537460  0.923764  \n",
              "82  0.811842  0.871668  \n",
              "83  0.601312  0.758754  \n",
              "84  1.000000  0.693202  \n",
              "\n",
              "[85 rows x 9 columns]"
            ],
            "text/html": [
              "\n",
              "  <div id=\"df-ee0367f2-89e0-4602-a333-e77d17a3fa3e\" class=\"colab-df-container\">\n",
              "    <div>\n",
              "<style scoped>\n",
              "    .dataframe tbody tr th:only-of-type {\n",
              "        vertical-align: middle;\n",
              "    }\n",
              "\n",
              "    .dataframe tbody tr th {\n",
              "        vertical-align: top;\n",
              "    }\n",
              "\n",
              "    .dataframe thead th {\n",
              "        text-align: right;\n",
              "    }\n",
              "</style>\n",
              "<table border=\"1\" class=\"dataframe\">\n",
              "  <thead>\n",
              "    <tr style=\"text-align: right;\">\n",
              "      <th></th>\n",
              "      <th>I0</th>\n",
              "      <th>PA500</th>\n",
              "      <th>HFS</th>\n",
              "      <th>DA</th>\n",
              "      <th>Area</th>\n",
              "      <th>A/DA</th>\n",
              "      <th>Max IP</th>\n",
              "      <th>DR</th>\n",
              "      <th>P</th>\n",
              "    </tr>\n",
              "  </thead>\n",
              "  <tbody>\n",
              "    <tr>\n",
              "      <th>0</th>\n",
              "      <td>0.211214</td>\n",
              "      <td>0.573143</td>\n",
              "      <td>0.270633</td>\n",
              "      <td>0.501209</td>\n",
              "      <td>0.408754</td>\n",
              "      <td>0.565080</td>\n",
              "      <td>0.343440</td>\n",
              "      <td>0.504250</td>\n",
              "      <td>0.221683</td>\n",
              "    </tr>\n",
              "    <tr>\n",
              "      <th>1</th>\n",
              "      <td>0.113671</td>\n",
              "      <td>0.702286</td>\n",
              "      <td>0.911708</td>\n",
              "      <td>0.243248</td>\n",
              "      <td>0.186648</td>\n",
              "      <td>0.489212</td>\n",
              "      <td>0.405982</td>\n",
              "      <td>0.218955</td>\n",
              "      <td>0.141294</td>\n",
              "    </tr>\n",
              "    <tr>\n",
              "      <th>2</th>\n",
              "      <td>0.224777</td>\n",
              "      <td>0.720571</td>\n",
              "      <td>0.357006</td>\n",
              "      <td>0.587490</td>\n",
              "      <td>0.713202</td>\n",
              "      <td>0.864115</td>\n",
              "      <td>0.459080</td>\n",
              "      <td>0.581753</td>\n",
              "      <td>0.272986</td>\n",
              "    </tr>\n",
              "    <tr>\n",
              "      <th>3</th>\n",
              "      <td>0.138708</td>\n",
              "      <td>0.748000</td>\n",
              "      <td>0.969290</td>\n",
              "      <td>0.282755</td>\n",
              "      <td>0.321765</td>\n",
              "      <td>0.751431</td>\n",
              "      <td>0.531173</td>\n",
              "      <td>0.233292</td>\n",
              "      <td>0.189278</td>\n",
              "    </tr>\n",
              "    <tr>\n",
              "      <th>4</th>\n",
              "      <td>0.130111</td>\n",
              "      <td>0.616571</td>\n",
              "      <td>0.854127</td>\n",
              "      <td>0.252255</td>\n",
              "      <td>0.194326</td>\n",
              "      <td>0.493860</td>\n",
              "      <td>0.403826</td>\n",
              "      <td>0.230169</td>\n",
              "      <td>0.153907</td>\n",
              "    </tr>\n",
              "    <tr>\n",
              "      <th>...</th>\n",
              "      <td>...</td>\n",
              "      <td>...</td>\n",
              "      <td>...</td>\n",
              "      <td>...</td>\n",
              "      <td>...</td>\n",
              "      <td>...</td>\n",
              "      <td>...</td>\n",
              "      <td>...</td>\n",
              "      <td>...</td>\n",
              "    </tr>\n",
              "    <tr>\n",
              "      <th>80</th>\n",
              "      <td>0.874812</td>\n",
              "      <td>0.218566</td>\n",
              "      <td>0.373337</td>\n",
              "      <td>0.560690</td>\n",
              "      <td>0.787118</td>\n",
              "      <td>1.000000</td>\n",
              "      <td>1.000000</td>\n",
              "      <td>0.447950</td>\n",
              "      <td>0.919898</td>\n",
              "    </tr>\n",
              "    <tr>\n",
              "      <th>81</th>\n",
              "      <td>0.899850</td>\n",
              "      <td>0.137714</td>\n",
              "      <td>0.495202</td>\n",
              "      <td>0.606213</td>\n",
              "      <td>0.447256</td>\n",
              "      <td>0.515840</td>\n",
              "      <td>0.857287</td>\n",
              "      <td>0.537460</td>\n",
              "      <td>0.923764</td>\n",
              "    </tr>\n",
              "    <tr>\n",
              "      <th>82</th>\n",
              "      <td>0.849775</td>\n",
              "      <td>0.185714</td>\n",
              "      <td>0.614203</td>\n",
              "      <td>0.876877</td>\n",
              "      <td>0.830480</td>\n",
              "      <td>0.684085</td>\n",
              "      <td>0.983593</td>\n",
              "      <td>0.811842</td>\n",
              "      <td>0.871668</td>\n",
              "    </tr>\n",
              "    <tr>\n",
              "      <th>83</th>\n",
              "      <td>0.774662</td>\n",
              "      <td>0.115429</td>\n",
              "      <td>0.301344</td>\n",
              "      <td>0.610546</td>\n",
              "      <td>0.347276</td>\n",
              "      <td>0.391753</td>\n",
              "      <td>0.481738</td>\n",
              "      <td>0.601312</td>\n",
              "      <td>0.758754</td>\n",
              "    </tr>\n",
              "    <tr>\n",
              "      <th>84</th>\n",
              "      <td>0.749624</td>\n",
              "      <td>0.194857</td>\n",
              "      <td>0.000000</td>\n",
              "      <td>1.000000</td>\n",
              "      <td>0.759486</td>\n",
              "      <td>0.546171</td>\n",
              "      <td>0.629625</td>\n",
              "      <td>1.000000</td>\n",
              "      <td>0.693202</td>\n",
              "    </tr>\n",
              "  </tbody>\n",
              "</table>\n",
              "<p>85 rows × 9 columns</p>\n",
              "</div>\n",
              "    <div class=\"colab-df-buttons\">\n",
              "\n",
              "  <div class=\"colab-df-container\">\n",
              "    <button class=\"colab-df-convert\" onclick=\"convertToInteractive('df-ee0367f2-89e0-4602-a333-e77d17a3fa3e')\"\n",
              "            title=\"Convert this dataframe to an interactive table.\"\n",
              "            style=\"display:none;\">\n",
              "\n",
              "  <svg xmlns=\"http://www.w3.org/2000/svg\" height=\"24px\" viewBox=\"0 -960 960 960\">\n",
              "    <path d=\"M120-120v-720h720v720H120Zm60-500h600v-160H180v160Zm220 220h160v-160H400v160Zm0 220h160v-160H400v160ZM180-400h160v-160H180v160Zm440 0h160v-160H620v160ZM180-180h160v-160H180v160Zm440 0h160v-160H620v160Z\"/>\n",
              "  </svg>\n",
              "    </button>\n",
              "\n",
              "  <style>\n",
              "    .colab-df-container {\n",
              "      display:flex;\n",
              "      gap: 12px;\n",
              "    }\n",
              "\n",
              "    .colab-df-convert {\n",
              "      background-color: #E8F0FE;\n",
              "      border: none;\n",
              "      border-radius: 50%;\n",
              "      cursor: pointer;\n",
              "      display: none;\n",
              "      fill: #1967D2;\n",
              "      height: 32px;\n",
              "      padding: 0 0 0 0;\n",
              "      width: 32px;\n",
              "    }\n",
              "\n",
              "    .colab-df-convert:hover {\n",
              "      background-color: #E2EBFA;\n",
              "      box-shadow: 0px 1px 2px rgba(60, 64, 67, 0.3), 0px 1px 3px 1px rgba(60, 64, 67, 0.15);\n",
              "      fill: #174EA6;\n",
              "    }\n",
              "\n",
              "    .colab-df-buttons div {\n",
              "      margin-bottom: 4px;\n",
              "    }\n",
              "\n",
              "    [theme=dark] .colab-df-convert {\n",
              "      background-color: #3B4455;\n",
              "      fill: #D2E3FC;\n",
              "    }\n",
              "\n",
              "    [theme=dark] .colab-df-convert:hover {\n",
              "      background-color: #434B5C;\n",
              "      box-shadow: 0px 1px 3px 1px rgba(0, 0, 0, 0.15);\n",
              "      filter: drop-shadow(0px 1px 2px rgba(0, 0, 0, 0.3));\n",
              "      fill: #FFFFFF;\n",
              "    }\n",
              "  </style>\n",
              "\n",
              "    <script>\n",
              "      const buttonEl =\n",
              "        document.querySelector('#df-ee0367f2-89e0-4602-a333-e77d17a3fa3e button.colab-df-convert');\n",
              "      buttonEl.style.display =\n",
              "        google.colab.kernel.accessAllowed ? 'block' : 'none';\n",
              "\n",
              "      async function convertToInteractive(key) {\n",
              "        const element = document.querySelector('#df-ee0367f2-89e0-4602-a333-e77d17a3fa3e');\n",
              "        const dataTable =\n",
              "          await google.colab.kernel.invokeFunction('convertToInteractive',\n",
              "                                                    [key], {});\n",
              "        if (!dataTable) return;\n",
              "\n",
              "        const docLinkHtml = 'Like what you see? Visit the ' +\n",
              "          '<a target=\"_blank\" href=https://colab.research.google.com/notebooks/data_table.ipynb>data table notebook</a>'\n",
              "          + ' to learn more about interactive tables.';\n",
              "        element.innerHTML = '';\n",
              "        dataTable['output_type'] = 'display_data';\n",
              "        await google.colab.output.renderOutput(dataTable, element);\n",
              "        const docLink = document.createElement('div');\n",
              "        docLink.innerHTML = docLinkHtml;\n",
              "        element.appendChild(docLink);\n",
              "      }\n",
              "    </script>\n",
              "  </div>\n",
              "\n",
              "\n",
              "<div id=\"df-8b98d240-2202-4ea2-9863-6556780a9588\">\n",
              "  <button class=\"colab-df-quickchart\" onclick=\"quickchart('df-8b98d240-2202-4ea2-9863-6556780a9588')\"\n",
              "            title=\"Suggest charts\"\n",
              "            style=\"display:none;\">\n",
              "\n",
              "<svg xmlns=\"http://www.w3.org/2000/svg\" height=\"24px\"viewBox=\"0 0 24 24\"\n",
              "     width=\"24px\">\n",
              "    <g>\n",
              "        <path d=\"M19 3H5c-1.1 0-2 .9-2 2v14c0 1.1.9 2 2 2h14c1.1 0 2-.9 2-2V5c0-1.1-.9-2-2-2zM9 17H7v-7h2v7zm4 0h-2V7h2v10zm4 0h-2v-4h2v4z\"/>\n",
              "    </g>\n",
              "</svg>\n",
              "  </button>\n",
              "\n",
              "<style>\n",
              "  .colab-df-quickchart {\n",
              "      --bg-color: #E8F0FE;\n",
              "      --fill-color: #1967D2;\n",
              "      --hover-bg-color: #E2EBFA;\n",
              "      --hover-fill-color: #174EA6;\n",
              "      --disabled-fill-color: #AAA;\n",
              "      --disabled-bg-color: #DDD;\n",
              "  }\n",
              "\n",
              "  [theme=dark] .colab-df-quickchart {\n",
              "      --bg-color: #3B4455;\n",
              "      --fill-color: #D2E3FC;\n",
              "      --hover-bg-color: #434B5C;\n",
              "      --hover-fill-color: #FFFFFF;\n",
              "      --disabled-bg-color: #3B4455;\n",
              "      --disabled-fill-color: #666;\n",
              "  }\n",
              "\n",
              "  .colab-df-quickchart {\n",
              "    background-color: var(--bg-color);\n",
              "    border: none;\n",
              "    border-radius: 50%;\n",
              "    cursor: pointer;\n",
              "    display: none;\n",
              "    fill: var(--fill-color);\n",
              "    height: 32px;\n",
              "    padding: 0;\n",
              "    width: 32px;\n",
              "  }\n",
              "\n",
              "  .colab-df-quickchart:hover {\n",
              "    background-color: var(--hover-bg-color);\n",
              "    box-shadow: 0 1px 2px rgba(60, 64, 67, 0.3), 0 1px 3px 1px rgba(60, 64, 67, 0.15);\n",
              "    fill: var(--button-hover-fill-color);\n",
              "  }\n",
              "\n",
              "  .colab-df-quickchart-complete:disabled,\n",
              "  .colab-df-quickchart-complete:disabled:hover {\n",
              "    background-color: var(--disabled-bg-color);\n",
              "    fill: var(--disabled-fill-color);\n",
              "    box-shadow: none;\n",
              "  }\n",
              "\n",
              "  .colab-df-spinner {\n",
              "    border: 2px solid var(--fill-color);\n",
              "    border-color: transparent;\n",
              "    border-bottom-color: var(--fill-color);\n",
              "    animation:\n",
              "      spin 1s steps(1) infinite;\n",
              "  }\n",
              "\n",
              "  @keyframes spin {\n",
              "    0% {\n",
              "      border-color: transparent;\n",
              "      border-bottom-color: var(--fill-color);\n",
              "      border-left-color: var(--fill-color);\n",
              "    }\n",
              "    20% {\n",
              "      border-color: transparent;\n",
              "      border-left-color: var(--fill-color);\n",
              "      border-top-color: var(--fill-color);\n",
              "    }\n",
              "    30% {\n",
              "      border-color: transparent;\n",
              "      border-left-color: var(--fill-color);\n",
              "      border-top-color: var(--fill-color);\n",
              "      border-right-color: var(--fill-color);\n",
              "    }\n",
              "    40% {\n",
              "      border-color: transparent;\n",
              "      border-right-color: var(--fill-color);\n",
              "      border-top-color: var(--fill-color);\n",
              "    }\n",
              "    60% {\n",
              "      border-color: transparent;\n",
              "      border-right-color: var(--fill-color);\n",
              "    }\n",
              "    80% {\n",
              "      border-color: transparent;\n",
              "      border-right-color: var(--fill-color);\n",
              "      border-bottom-color: var(--fill-color);\n",
              "    }\n",
              "    90% {\n",
              "      border-color: transparent;\n",
              "      border-bottom-color: var(--fill-color);\n",
              "    }\n",
              "  }\n",
              "</style>\n",
              "\n",
              "  <script>\n",
              "    async function quickchart(key) {\n",
              "      const quickchartButtonEl =\n",
              "        document.querySelector('#' + key + ' button');\n",
              "      quickchartButtonEl.disabled = true;  // To prevent multiple clicks.\n",
              "      quickchartButtonEl.classList.add('colab-df-spinner');\n",
              "      try {\n",
              "        const charts = await google.colab.kernel.invokeFunction(\n",
              "            'suggestCharts', [key], {});\n",
              "      } catch (error) {\n",
              "        console.error('Error during call to suggestCharts:', error);\n",
              "      }\n",
              "      quickchartButtonEl.classList.remove('colab-df-spinner');\n",
              "      quickchartButtonEl.classList.add('colab-df-quickchart-complete');\n",
              "    }\n",
              "    (() => {\n",
              "      let quickchartButtonEl =\n",
              "        document.querySelector('#df-8b98d240-2202-4ea2-9863-6556780a9588 button');\n",
              "      quickchartButtonEl.style.display =\n",
              "        google.colab.kernel.accessAllowed ? 'block' : 'none';\n",
              "    })();\n",
              "  </script>\n",
              "</div>\n",
              "    </div>\n",
              "  </div>\n"
            ]
          },
          "metadata": {},
          "execution_count": 16
        }
      ]
    },
    {
      "cell_type": "markdown",
      "source": [
        "Menyimpan normalisasi :"
      ],
      "metadata": {
        "id": "Sbnai5VLIQuE"
      }
    },
    {
      "cell_type": "code",
      "source": [
        "import pickle\n",
        "\n",
        "file = '/content/drive/MyDrive/PSDKris3/Data_Normalisasi_MinMax.pkl'\n",
        "\n",
        "# Menyimpan zcore dalam file pickle\n",
        "with open(file, 'wb') as file:\n",
        "    pickle.dump(scaler, file)"
      ],
      "metadata": {
        "id": "ORuwncMzIWsq"
      },
      "execution_count": null,
      "outputs": []
    },
    {
      "cell_type": "markdown",
      "source": [
        "Menyimpan dataset yang telah dinormalisasi :"
      ],
      "metadata": {
        "id": "6AtN0ermIV5d"
      }
    },
    {
      "cell_type": "code",
      "source": [
        "# Menyimpan data yang telah dinormalisasi dalam satu file CSV\n",
        "data_normalized.to_csv('BreastTissue_No_Outllier_Normalisasi.csv', index=False)"
      ],
      "metadata": {
        "id": "TXsD7NYFIfl_"
      },
      "execution_count": null,
      "outputs": []
    },
    {
      "cell_type": "markdown",
      "source": [
        "### **5. SPLITING DATA**"
      ],
      "metadata": {
        "id": "mCGDno8DImq-"
      }
    },
    {
      "cell_type": "markdown",
      "source": [
        "Splitting data adalah proses membagi dataset menjadi subset yang lebih kecil. \\\n",
        "\n",
        "Ada dua jenis pembagian data utama:\n",
        "\n",
        "  1. **Data Training :** Adalah bagian dari dataset yang digunakan untuk melatih model mesin atau untuk membangun model prediktif. Model menggunakan informasi dari training set untuk belajar pola-pola yang ada dalam data. \\\n",
        "\n",
        "  2. **Data Testing :** Adalah bagian dari dataset yang digunakan untuk menguji kinerja model yang telah dilatih. \\\n",
        "\n",
        "Kali ini total semua data akan dibagi menjadi 80% untuk data latih (data training) dan 20% untuk data uji (data test). Juga dataset dibagi menjadi fitur dan target, di mana kolom 'Class' termasuk target dan kolom selain 'Class' termasuk dalam fitur."
      ],
      "metadata": {
        "id": "y0vDjnjYIq0f"
      }
    },
    {
      "cell_type": "code",
      "source": [
        "from sklearn.model_selection import train_test_split\n",
        "\n",
        "# memisahkan kolom fitur dan target\n",
        "# X=data_bersih.drop(columns=['Class', 'HFS', 'A/DA', 'PA500', 'Area', 'Max IP', 'DR'], axis =1)\n",
        "# X=data_bersih.drop(columns=['Class', 'HFS', 'A/DA', 'PA500', 'Area', 'Max IP'], axis =1)\n",
        "# X=data_bersih.drop(columns=['Class', 'HFS', 'A/DA', 'PA500', 'Area'], axis =1)\n",
        "# X=data_bersih.drop(columns=['Class', 'HFS', 'A/DA', 'PA500'], axis =1)\n",
        "# X=data_bersih.drop(columns=['Class', 'HFS', 'A/DA'], axis =1)\n",
        "# X=data_bersih.drop(columns=['Class', 'HFS'], axis =1)\n",
        "X=data_norm.drop(columns=['Class'], axis =1)\n",
        "y=data_norm['Class']\n",
        "\n",
        "# membagi dataset menjadi data training dan data testing\n",
        "X_train, X_test, y_train, y_test = train_test_split(X, y, test_size = 0.2, random_state = 42)\n",
        "\n",
        "# banyaknya data uji data data testing\n",
        "print(\"Jumlah Data : \", X.shape[0])\n",
        "print(\"Data Latih  : \", X_train.shape[0])\n",
        "print(\"Data Uji    : \", X_test.shape[0])"
      ],
      "metadata": {
        "colab": {
          "base_uri": "https://localhost:8080/"
        },
        "id": "w1gr0fP8Q7Fm",
        "outputId": "0e1754fe-6e09-483b-c39d-286d574e3184"
      },
      "execution_count": null,
      "outputs": [
        {
          "output_type": "stream",
          "name": "stdout",
          "text": [
            "Jumlah Data :  85\n",
            "Data Latih  :  68\n",
            "Data Uji    :  17\n"
          ]
        }
      ]
    },
    {
      "cell_type": "markdown",
      "source": [
        "## **MODELING**"
      ],
      "metadata": {
        "id": "KW5ds3nLRAne"
      }
    },
    {
      "cell_type": "markdown",
      "source": [
        "Tahap modeling adalah saat di mana kita membangun model atau algoritma untuk menggambarkan pola-pola dalam data atau untuk membuat prediksi berdasarkan data yang ada. Ini melibatkan penggunaan teknik-teknik statistik atau pembelajaran mesin untuk membuat representasi dari data yang dapat digunakan untuk membuat prediksi, klasifikasi, klaster, atau estimasi. \\\n",
        "\n",
        "Yang akan dibahas dalam tahap modeling kali ini adalah : \\\n",
        "1. Perbandingan akurasi antara 4 model, yaitu KNN, Decission Tree, Random Forest, dan Naive Bayes.\n",
        "2. Pemilihan Model Terbaik.\n",
        "3. Modeling Dengan Model Terbaik."
      ],
      "metadata": {
        "id": "CG_GTufHrXNW"
      }
    },
    {
      "cell_type": "markdown",
      "source": [
        "### **1. Perbandingan Akurasi 4 Model**"
      ],
      "metadata": {
        "id": "1C9sM5FptNj3"
      }
    },
    {
      "cell_type": "markdown",
      "source": [
        "#### **KNN (K-NEAREST NEIGHBORS)**"
      ],
      "metadata": {
        "id": "NZZYsz0NRK7g"
      }
    },
    {
      "cell_type": "markdown",
      "source": [
        "K-Nearest Neighbors (KNN) adalah salah satu algoritma yang digunakan dalam machine learning untuk tugas klasifikasi dan regresi. Ide dasar di balik KNN adalah melakukan prediksi berdasarkan keadaan mayoritas tetangga terdekat dari suatu titik data. \\\n",
        "\n",
        "Konsep utama KNN adalah sebagai berikut:\n",
        "\n",
        "  1. **Penentuan Jarak:** Mengukur jarak antara titik data yang ingin diprediksi dengan titik-titik data lainnya. Metrik jarak yang umum digunakan adalah Euclidean distance atau Manhattan distance, tetapi bisa juga menggunakan metrik jarak lainnya tergantung pada kasusnya.\n",
        "\n",
        "  2. **Pemilihan Tetangga Terdekat:** Memilih k titik data terdekat (k adalah bilangan bulat positif yang ditentukan sebelumnya) dari titik data yang ingin diprediksi berdasarkan metrik jarak.\n",
        "\n",
        "  3. **Klasifikasi:** Untuk tugas klasifikasi, mayoritas label k tetangga terdekat digunakan untuk menentukan label dari titik data yang ingin diprediksi. Misalnya, jika mayoritas dari tetangga terdekat adalah label A, maka titik data yang diprediksi akan diklasifikasikan sebagai label A.\n",
        "\n",
        "  4. **Regresi:** Untuk tugas regresi, nilai rata-rata atau median dari nilai-nilai k tetangga terdekat digunakan sebagai prediksi nilai untuk titik data yang ingin diprediksi. \\\n"
      ],
      "metadata": {
        "id": "-Btcnj1tRQ22"
      }
    },
    {
      "cell_type": "markdown",
      "source": [
        "Langkah-langkah menghitung KNN : \\\n",
        "\n",
        "  1. **Pilih bilangan bulat positif k:** Ini adalah jumlah tetangga terdekat yang akan diambil untuk menentukan prediksi. Nilai k harus dipilih sebelumnya dan dapat memengaruhi kinerja model.\n",
        "\n",
        "  2. **Hitung Jarak:** Hitung jarak antara titik data yang ingin diprediksi dengan semua titik data dalam set pelatihan. Metrik jarak yang umum digunakan adalah Euclidean distance atau Manhattan distance. Jarak dihitung dengan rumus sebagai berikut (untuk Euclidean distance):\n",
        "  $ \\text{Euclidean Distance} = \\sqrt{\\sum_{i=1}^{n} (x_i - y_i)^2} $ \\\n",
        "\n",
        "  Di mana : \\\n",
        "  $n$ adalah jumlah fitur  \n",
        "  $ xi $​ dan $yi $​ adalah nilai fitur ke-i dari dua titik data.\n",
        "\n",
        "  3. Pilih k Tetangga Terdekat: Identifikasi k tetangga terdekat berdasarkan jarak yang dihitung sebelumnya.\n",
        "\n",
        "  4. Tentukan Mayoritas: Untuk tugas klasifikasi, tentukan label mayoritas dari k tetangga terdekat. Untuk tugas regresi, hitung nilai rata-rata atau median dari k tetangga terdekat. \\\n",
        "  \n",
        "  Rumus untuk prediksi pada tugas klasifikasi bisa direpresentasikan sebagai berikut: \\\n",
        "\n",
        "  $ \\hat{y} = \\text{argmax}\\left(\\sum_{i=1}^{k} I(y_i = c)\\right) $\n",
        "\n",
        "  Di mana : \\\n",
        "  $\\text{argmax}$ mengambil kelas yang memiliki jumlah tetangga terbanyak. \\\n",
        "  $\\hat{y}$​ adalah label yang diprediksi. \\\n",
        "  $ I $ adalah fungsi indikator (1 jika benar, 0 jika salah). \\\n",
        "  $y_i$​ adalah label dari tetangga ke-i. \\\n",
        "  $ c $ adalah label kelas. \\"
      ],
      "metadata": {
        "id": "HU4yAFB1xpoM"
      }
    },
    {
      "cell_type": "code",
      "source": [
        "from sklearn.neighbors import KNeighborsClassifier\n",
        "from sklearn.model_selection import train_test_split\n",
        "from sklearn.metrics import accuracy_score\n",
        "\n",
        "# Misal X adalah dataset fitur dan y adalah label/target\n",
        "# Sesuaikan X dan y dengan dataset Anda\n",
        "# X_train, X_test, y_train, y_test = train_test_split(X, y, test_size=0.2, random_state=42)\n",
        "\n",
        "best_accuracy = 0\n",
        "best_k = 0\n",
        "\n",
        "for k in range(1, 51):\n",
        "    knn = KNeighborsClassifier(n_neighbors=k)\n",
        "    knn.fit(X_train, y_train)\n",
        "    y_pred = knn.predict(X_test)\n",
        "    accuracy = accuracy_score(y_test, y_pred)\n",
        "    print(f\"k = {k}, Akurasi: {accuracy}\")\n",
        "\n",
        "    if accuracy > best_accuracy:\n",
        "        best_accuracy = accuracy\n",
        "        best_k = k\n",
        "\n",
        "print(f\"K terbaik : {best_k} dengan akurasi : {best_accuracy}\")"
      ],
      "metadata": {
        "colab": {
          "base_uri": "https://localhost:8080/"
        },
        "id": "-OkPD-gkRSYp",
        "outputId": "d7044b54-895e-47d5-c2a4-adf1a99d0d88"
      },
      "execution_count": null,
      "outputs": [
        {
          "output_type": "stream",
          "name": "stdout",
          "text": [
            "k = 1, Akurasi: 0.7647058823529411\n",
            "k = 2, Akurasi: 0.6470588235294118\n",
            "k = 3, Akurasi: 0.5882352941176471\n",
            "k = 4, Akurasi: 0.5882352941176471\n",
            "k = 5, Akurasi: 0.5294117647058824\n",
            "k = 6, Akurasi: 0.5882352941176471\n",
            "k = 7, Akurasi: 0.5294117647058824\n",
            "k = 8, Akurasi: 0.4117647058823529\n",
            "k = 9, Akurasi: 0.35294117647058826\n",
            "k = 10, Akurasi: 0.47058823529411764\n",
            "k = 11, Akurasi: 0.5294117647058824\n",
            "k = 12, Akurasi: 0.47058823529411764\n",
            "k = 13, Akurasi: 0.47058823529411764\n",
            "k = 14, Akurasi: 0.4117647058823529\n",
            "k = 15, Akurasi: 0.47058823529411764\n",
            "k = 16, Akurasi: 0.47058823529411764\n",
            "k = 17, Akurasi: 0.47058823529411764\n",
            "k = 18, Akurasi: 0.5294117647058824\n",
            "k = 19, Akurasi: 0.5294117647058824\n",
            "k = 20, Akurasi: 0.5294117647058824\n",
            "k = 21, Akurasi: 0.5294117647058824\n",
            "k = 22, Akurasi: 0.5294117647058824\n",
            "k = 23, Akurasi: 0.47058823529411764\n",
            "k = 24, Akurasi: 0.47058823529411764\n",
            "k = 25, Akurasi: 0.47058823529411764\n",
            "k = 26, Akurasi: 0.47058823529411764\n",
            "k = 27, Akurasi: 0.4117647058823529\n",
            "k = 28, Akurasi: 0.4117647058823529\n",
            "k = 29, Akurasi: 0.35294117647058826\n",
            "k = 30, Akurasi: 0.47058823529411764\n",
            "k = 31, Akurasi: 0.47058823529411764\n",
            "k = 32, Akurasi: 0.5882352941176471\n",
            "k = 33, Akurasi: 0.4117647058823529\n",
            "k = 34, Akurasi: 0.4117647058823529\n",
            "k = 35, Akurasi: 0.47058823529411764\n",
            "k = 36, Akurasi: 0.4117647058823529\n",
            "k = 37, Akurasi: 0.4117647058823529\n",
            "k = 38, Akurasi: 0.23529411764705882\n",
            "k = 39, Akurasi: 0.29411764705882354\n",
            "k = 40, Akurasi: 0.29411764705882354\n",
            "k = 41, Akurasi: 0.29411764705882354\n",
            "k = 42, Akurasi: 0.29411764705882354\n",
            "k = 43, Akurasi: 0.29411764705882354\n",
            "k = 44, Akurasi: 0.29411764705882354\n",
            "k = 45, Akurasi: 0.29411764705882354\n",
            "k = 46, Akurasi: 0.35294117647058826\n",
            "k = 47, Akurasi: 0.35294117647058826\n",
            "k = 48, Akurasi: 0.35294117647058826\n",
            "k = 49, Akurasi: 0.35294117647058826\n",
            "k = 50, Akurasi: 0.35294117647058826\n",
            "K terbaik : 1 dengan akurasi : 0.7647058823529411\n"
          ]
        }
      ]
    },
    {
      "cell_type": "markdown",
      "source": [
        "#### **DECISION TREE**"
      ],
      "metadata": {
        "id": "fsE-U54zRWJG"
      }
    },
    {
      "cell_type": "markdown",
      "source": [
        "Pohon Keputusan (Decision Tree) adalah model prediktif yang menggunakan struktur berbentuk pohon atau hirarki aturan untuk membuat prediksi tentang nilai dari target variabel berdasarkan serangkaian aturan pembelajaran dari fitur-fitur data. \\\n",
        "\n",
        "Pohon keputusan terdiri dari simpul (nodes) dalam bentuk keputusan, cabang (branches) yang mewakili hasil dari keputusan tersebut, dan daun (leaves) yang mewakili nilai target atau prediksi. Proses membangun pohon keputusan melibatkan pemilihan atribut terbaik di setiap tingkat pohon yang memecah data menjadi kelompok yang lebih homogen. \\\n",
        "\n",
        "Langkah-langkah utama dalam pembuatan pohon keputusan termasuk:\n",
        "\n",
        "  1. **Pemilihan Atribut:** Memilih atribut terbaik untuk memecah data. Biasanya, kriteria seperti Information Gain, Gini Impurity, atau Gain Ratio digunakan untuk menentukan atribut yang paling informatif.\n",
        "\n",
        "  2. **Pembagian Data:** Memisahkan data berdasarkan nilai-nilai atribut yang dipilih pada langkah pertama.\n",
        "\n",
        "  3. **Rekursif:** Proses pembagian ini dilakukan secara rekursif pada setiap percabangan (branch) hingga mencapai kondisi berhenti. Kondisi berhenti dapat berupa node daun yang mewakili prediksi atau jika tidak ada lagi fitur yang memberikan pemisahan yang signifikan."
      ],
      "metadata": {
        "id": "_ZtrTZc6VTR4"
      }
    },
    {
      "cell_type": "code",
      "source": [
        "from sklearn import datasets\n",
        "from sklearn.model_selection import train_test_split\n",
        "from sklearn.tree import DecisionTreeClassifier\n",
        "from sklearn.metrics import accuracy_score\n",
        "\n",
        "# Memisahkan data menjadi data latih dan data uji\n",
        "# X_train, X_test, y_train, y_test = train_test_split(X, y, test_size=0.3, random_state=42)\n",
        "\n",
        "# Inisialisasi model Decision Tree Classifier\n",
        "dc = DecisionTreeClassifier()\n",
        "\n",
        "# Melatih model dengan data latih\n",
        "dc.fit(X_train, y_train)\n",
        "\n",
        "# Memprediksi kelas untuk data uji\n",
        "y_pred = dc.predict(X_test)\n",
        "\n",
        "# Mengukur akurasi\n",
        "accuracy = accuracy_score(y_test, y_pred)\n",
        "print(\"Akurasi:\", accuracy)"
      ],
      "metadata": {
        "colab": {
          "base_uri": "https://localhost:8080/"
        },
        "id": "Tfr0hof8VXM3",
        "outputId": "546fde7a-f164-4c29-d646-b92e3534df63"
      },
      "execution_count": null,
      "outputs": [
        {
          "output_type": "stream",
          "name": "stdout",
          "text": [
            "Akurasi: 0.5294117647058824\n"
          ]
        }
      ]
    },
    {
      "cell_type": "markdown",
      "source": [
        "### **RANDOM FOREST**"
      ],
      "metadata": {
        "id": "UDOi0mPFVU8W"
      }
    },
    {
      "cell_type": "markdown",
      "source": [
        "Random Forest adalah salah satu algoritma machine learning yang menggunakan konsep ensemble learning untuk meningkatkan kinerja prediksi dan mengurangi overfitting. Random Forest menggabungkan sejumlah besar pohon keputusan (Decision Trees) yang bekerja bersama untuk membuat prediksi yang lebih akurat dan stabil. \\"
      ],
      "metadata": {
        "id": "YU_X1lysY37j"
      }
    },
    {
      "cell_type": "markdown",
      "source": [
        "Mari kita fokus pada beberapa langkah penting dalam proses pembentukan Random Forest:\n",
        "\n",
        "  1. Bagging (Bootstrap Aggregating):\n",
        "      - Bagging melibatkan pengambilan sampel dataset pelatihan dengan pengembalian. Ini berarti setiap pohon dibangun dengan dataset yang diambil secara acak dari dataset pelatihan asli.\n",
        "      - Jumlah sampel yang diambil biasanya sama dengan ukuran dataset pelatihan, tetapi setiap sampel memiliki sebagian data yang unik karena pengambilan dilakukan dengan pengembalian.\n",
        "\n",
        "  2. Pemilihan Atribut Acak:\n",
        "      - Ketika membangun setiap pohon keputusan dalam Random Forest, algoritma memilih secara acak subset dari atribut untuk digunakan dalam pembentukan pohon tersebut.\n",
        "      - Hal ini membantu mencegah setiap pohon menjadi terlalu terfokus pada beberapa atribut tertentu dan membuatnya lebih umum dan variasi antar pohon lebih besar.\n",
        "\n",
        "  3. Prediksi Bersama-sama:\n",
        "      - Setelah sejumlah besar pohon keputusan dibangun, prediksi dihasilkan dengan mengambil mayoritas suara dari prediksi setiap pohon (klasifikasi) atau rata-rata prediksi (regresi)."
      ],
      "metadata": {
        "id": "uGhL8h7jnD4V"
      }
    },
    {
      "cell_type": "code",
      "source": [
        "from sklearn import datasets\n",
        "from sklearn.model_selection import train_test_split\n",
        "from sklearn.ensemble import RandomForestClassifier\n",
        "from sklearn.metrics import accuracy_score\n",
        "\n",
        "# Memisahkan data menjadi data latih dan data uji\n",
        "# X_train, X_test, y_train, y_test = train_test_split(X, y, test_size=0.3, random_state=42)\n",
        "\n",
        "# Inisialisasi nilai awal\n",
        "accuracies = []\n",
        "best_accuracy = 0\n",
        "best_n_estimators = 0\n",
        "\n",
        "# Coba berbagai nilai n_estimators\n",
        "for n_estimators in range(1, 101):  # Ubah rentang sesuai kebutuhan Anda\n",
        "    # Inisialisasi model Random Forest Classifier dengan n_estimators saat ini\n",
        "    rf = RandomForestClassifier(n_estimators=n_estimators, random_state=42)\n",
        "\n",
        "    # Melatih model dengan data latih\n",
        "    rf.fit(X_train, y_train)\n",
        "\n",
        "    # Memprediksi kelas untuk data uji\n",
        "    y_pred = rf.predict(X_test)\n",
        "\n",
        "    # Mengukur akurasi\n",
        "    accuracy = accuracy_score(y_test, y_pred)\n",
        "\n",
        "    # Menyimpan nilai akurasi dan n_estimators ke dalam list accuracies\n",
        "    accuracies.append((n_estimators, accuracy))\n",
        "\n",
        "    # Memperbarui nilai terbaik jika ditemukan akurasi yang lebih tinggi\n",
        "    if accuracy > best_accuracy:\n",
        "        best_accuracy = accuracy\n",
        "        best_n_estimators = n_estimators\n",
        "\n",
        "# Menampilkan akurasi untuk setiap n_estimators\n",
        "for n_estimators, accuracy in accuracies:\n",
        "    print(f\"n_estimators: {n_estimators}, Akurasi: {accuracy}\")\n",
        "\n",
        "# Menampilkan n_estimators terbaik dan akurasinya\n",
        "print(\"n_estimators terbaik:\", best_n_estimators)\n",
        "print(\"Akurasi terbaik:\", best_accuracy)"
      ],
      "metadata": {
        "colab": {
          "base_uri": "https://localhost:8080/"
        },
        "id": "yRQLGvoQY3PY",
        "outputId": "caa63948-56f2-418a-98ac-c6757a975f83"
      },
      "execution_count": null,
      "outputs": [
        {
          "output_type": "stream",
          "name": "stdout",
          "text": [
            "n_estimators: 1, Akurasi: 0.7058823529411765\n",
            "n_estimators: 2, Akurasi: 0.6470588235294118\n",
            "n_estimators: 3, Akurasi: 0.7058823529411765\n",
            "n_estimators: 4, Akurasi: 0.7647058823529411\n",
            "n_estimators: 5, Akurasi: 0.7647058823529411\n",
            "n_estimators: 6, Akurasi: 0.7647058823529411\n",
            "n_estimators: 7, Akurasi: 0.8235294117647058\n",
            "n_estimators: 8, Akurasi: 0.8235294117647058\n",
            "n_estimators: 9, Akurasi: 0.7647058823529411\n",
            "n_estimators: 10, Akurasi: 0.7647058823529411\n",
            "n_estimators: 11, Akurasi: 0.8235294117647058\n",
            "n_estimators: 12, Akurasi: 0.8235294117647058\n",
            "n_estimators: 13, Akurasi: 0.7647058823529411\n",
            "n_estimators: 14, Akurasi: 0.8235294117647058\n",
            "n_estimators: 15, Akurasi: 0.7647058823529411\n",
            "n_estimators: 16, Akurasi: 0.7647058823529411\n",
            "n_estimators: 17, Akurasi: 0.8235294117647058\n",
            "n_estimators: 18, Akurasi: 0.7647058823529411\n",
            "n_estimators: 19, Akurasi: 0.8235294117647058\n",
            "n_estimators: 20, Akurasi: 0.8235294117647058\n",
            "n_estimators: 21, Akurasi: 0.8235294117647058\n",
            "n_estimators: 22, Akurasi: 0.8235294117647058\n",
            "n_estimators: 23, Akurasi: 0.8235294117647058\n",
            "n_estimators: 24, Akurasi: 0.8235294117647058\n",
            "n_estimators: 25, Akurasi: 0.7058823529411765\n",
            "n_estimators: 26, Akurasi: 0.7647058823529411\n",
            "n_estimators: 27, Akurasi: 0.7058823529411765\n",
            "n_estimators: 28, Akurasi: 0.7058823529411765\n",
            "n_estimators: 29, Akurasi: 0.7058823529411765\n",
            "n_estimators: 30, Akurasi: 0.7058823529411765\n",
            "n_estimators: 31, Akurasi: 0.7058823529411765\n",
            "n_estimators: 32, Akurasi: 0.7058823529411765\n",
            "n_estimators: 33, Akurasi: 0.7058823529411765\n",
            "n_estimators: 34, Akurasi: 0.7058823529411765\n",
            "n_estimators: 35, Akurasi: 0.7058823529411765\n",
            "n_estimators: 36, Akurasi: 0.7058823529411765\n",
            "n_estimators: 37, Akurasi: 0.7058823529411765\n",
            "n_estimators: 38, Akurasi: 0.7058823529411765\n",
            "n_estimators: 39, Akurasi: 0.7058823529411765\n",
            "n_estimators: 40, Akurasi: 0.7058823529411765\n",
            "n_estimators: 41, Akurasi: 0.7058823529411765\n",
            "n_estimators: 42, Akurasi: 0.7058823529411765\n",
            "n_estimators: 43, Akurasi: 0.7058823529411765\n",
            "n_estimators: 44, Akurasi: 0.7058823529411765\n",
            "n_estimators: 45, Akurasi: 0.7058823529411765\n",
            "n_estimators: 46, Akurasi: 0.7058823529411765\n",
            "n_estimators: 47, Akurasi: 0.7647058823529411\n",
            "n_estimators: 48, Akurasi: 0.7647058823529411\n",
            "n_estimators: 49, Akurasi: 0.7647058823529411\n",
            "n_estimators: 50, Akurasi: 0.7647058823529411\n",
            "n_estimators: 51, Akurasi: 0.8235294117647058\n",
            "n_estimators: 52, Akurasi: 0.8235294117647058\n",
            "n_estimators: 53, Akurasi: 0.8235294117647058\n",
            "n_estimators: 54, Akurasi: 0.8235294117647058\n",
            "n_estimators: 55, Akurasi: 0.8235294117647058\n",
            "n_estimators: 56, Akurasi: 0.8235294117647058\n",
            "n_estimators: 57, Akurasi: 0.8235294117647058\n",
            "n_estimators: 58, Akurasi: 0.7647058823529411\n",
            "n_estimators: 59, Akurasi: 0.7647058823529411\n",
            "n_estimators: 60, Akurasi: 0.7647058823529411\n",
            "n_estimators: 61, Akurasi: 0.7058823529411765\n",
            "n_estimators: 62, Akurasi: 0.7058823529411765\n",
            "n_estimators: 63, Akurasi: 0.7058823529411765\n",
            "n_estimators: 64, Akurasi: 0.7058823529411765\n",
            "n_estimators: 65, Akurasi: 0.7058823529411765\n",
            "n_estimators: 66, Akurasi: 0.7058823529411765\n",
            "n_estimators: 67, Akurasi: 0.7058823529411765\n",
            "n_estimators: 68, Akurasi: 0.7058823529411765\n",
            "n_estimators: 69, Akurasi: 0.7058823529411765\n",
            "n_estimators: 70, Akurasi: 0.7058823529411765\n",
            "n_estimators: 71, Akurasi: 0.7058823529411765\n",
            "n_estimators: 72, Akurasi: 0.7647058823529411\n",
            "n_estimators: 73, Akurasi: 0.7647058823529411\n",
            "n_estimators: 74, Akurasi: 0.7647058823529411\n",
            "n_estimators: 75, Akurasi: 0.7647058823529411\n",
            "n_estimators: 76, Akurasi: 0.7647058823529411\n",
            "n_estimators: 77, Akurasi: 0.7647058823529411\n",
            "n_estimators: 78, Akurasi: 0.7647058823529411\n",
            "n_estimators: 79, Akurasi: 0.7647058823529411\n",
            "n_estimators: 80, Akurasi: 0.7647058823529411\n",
            "n_estimators: 81, Akurasi: 0.7647058823529411\n",
            "n_estimators: 82, Akurasi: 0.8235294117647058\n",
            "n_estimators: 83, Akurasi: 0.8235294117647058\n",
            "n_estimators: 84, Akurasi: 0.8235294117647058\n",
            "n_estimators: 85, Akurasi: 0.7647058823529411\n",
            "n_estimators: 86, Akurasi: 0.7058823529411765\n",
            "n_estimators: 87, Akurasi: 0.7058823529411765\n",
            "n_estimators: 88, Akurasi: 0.7058823529411765\n",
            "n_estimators: 89, Akurasi: 0.7058823529411765\n",
            "n_estimators: 90, Akurasi: 0.7058823529411765\n",
            "n_estimators: 91, Akurasi: 0.7058823529411765\n",
            "n_estimators: 92, Akurasi: 0.7647058823529411\n",
            "n_estimators: 93, Akurasi: 0.7058823529411765\n",
            "n_estimators: 94, Akurasi: 0.7058823529411765\n",
            "n_estimators: 95, Akurasi: 0.7058823529411765\n",
            "n_estimators: 96, Akurasi: 0.7647058823529411\n",
            "n_estimators: 97, Akurasi: 0.7647058823529411\n",
            "n_estimators: 98, Akurasi: 0.7058823529411765\n",
            "n_estimators: 99, Akurasi: 0.7058823529411765\n",
            "n_estimators: 100, Akurasi: 0.7058823529411765\n",
            "n_estimators terbaik: 7\n",
            "Akurasi terbaik: 0.8235294117647058\n"
          ]
        }
      ]
    },
    {
      "cell_type": "markdown",
      "source": [
        "### **NAIVE BAYES**"
      ],
      "metadata": {
        "id": "dgIq88nFZDcZ"
      }
    },
    {
      "cell_type": "markdown",
      "source": [
        "Naive Bayes adalah metode yang bekerja dengan mengasumsikan independensi antara fitur-fitur dalam data, meskipun seringkali asumsi ini tidak sepenuhnya sesuai dengan kondisi dunia nyata. Meskipun begitu, metode ini sering memberikan hasil yang baik, khususnya dalam kasus-kasus yang melibatkan dataset yang besar. \\\n",
        "\n",
        "Cara kerja metode Naive Bayes adalah sebagai berikut : \\\n",
        "1. Teorema Bayes: \\\n",
        "  Naive Bayes berdasarkan pada Teorema Bayes, yang menyatakan hubungan antara probabilitas posterior (P(kelas∣fitur)P(kelas∣fitur)), probabilitas prior (P(kelas)P(kelas)), dan likelihood (P(fitur∣kelas)P(fitur∣kelas)) dari suatu sampel data.\n",
        "    \n",
        "  $ P(\\text{kelas} | \\text{fitur}) = \\frac{P(\\text{fitur} | \\text{kelas}) \\times P(\\text{kelas})}{P(\\text{fitur})} $\n",
        "​\n",
        "\n",
        "2. Asumsi Naive (Naive Assumption): \\\n",
        "  Naive Bayes mengasumsikan bahwa setiap fitur dalam data adalah independen satu sama lainnya jika diketahui kelasnya. Asumsi ini sering disebut sebagai \"naive\" karena dalam dunia nyata, fitur-fitur tidak selalu independen. \\\n",
        "\n",
        "3. Perhitungan Probabilitas: \\\n",
        "  **Probabilitas Prior** $ \\text{P(kelas)} $: Probabilitas awal dari setiap kelas dalam dataset. \\\n",
        "  **Likelihood** $ \\text{P(fitur∣kelas)} $: Probabilitas munculnya fitur-fitur tertentu jika diketahui kelasnya. Ini dihitung berdasarkan data pelatihan. \\\n",
        "  **Probabilitas Posterior** $ P(\\text{kelas} | \\text{fitur}) $: Probabilitas kelas tertentu untuk sampel data yang diberikan.\n",
        "\n",
        "4. Prediksi: \\\n",
        "  Setelah menghitung probabilitas posterior untuk setiap kelas, Naive Bayes memilih kelas dengan probabilitas tertinggi sebagai prediksi untuk sampel data tersebut."
      ],
      "metadata": {
        "id": "2lkhe3OhZFDE"
      }
    },
    {
      "cell_type": "code",
      "source": [
        "from sklearn import datasets\n",
        "from sklearn.model_selection import train_test_split\n",
        "from sklearn.naive_bayes import GaussianNB\n",
        "from sklearn.metrics import accuracy_score\n",
        "\n",
        "# Memisahkan data menjadi data latih dan data uji\n",
        "# X_train, X_test, y_train, y_test = train_test_split(X, y, test_size=0.3, random_state=42)\n",
        "\n",
        "# Inisialisasi model Naive Bayes\n",
        "nb = GaussianNB()\n",
        "\n",
        "# Melatih model dengan data latih\n",
        "nb.fit(X_train, y_train)\n",
        "\n",
        "# Memprediksi kelas untuk data uji\n",
        "y_pred = nb.predict(X_test)\n",
        "\n",
        "# Mengukur akurasi\n",
        "accuracy = accuracy_score(y_test, y_pred)\n",
        "print(\"Akurasi:\", accuracy)"
      ],
      "metadata": {
        "colab": {
          "base_uri": "https://localhost:8080/"
        },
        "id": "4wmkjf3XZHH3",
        "outputId": "563a11c1-c42c-4341-b984-0ac8b1d08f0f"
      },
      "execution_count": null,
      "outputs": [
        {
          "output_type": "stream",
          "name": "stdout",
          "text": [
            "Akurasi: 0.6470588235294118\n"
          ]
        }
      ]
    },
    {
      "cell_type": "markdown",
      "source": [
        "### **PEMILIHAN MODEL TERBAIK**"
      ],
      "metadata": {
        "id": "NgTHYo2hfFh2"
      }
    },
    {
      "cell_type": "markdown",
      "source": [
        "Dengan dijalankannya keempat model di atas, yakni : \\\n",
        "- KNN \\\n",
        "- Decision Tree \\\n",
        "- Random Forest \\\n",
        "- Naive Bayes \\\n",
        "\n",
        "Didapatlah model terbaik dalah model **Random Forest** dengan : \\\n",
        "Akurasi terbaik Random Forest: **0.8461538461538461** untuk n estimator bernilai 7\\\n",
        "Kombinasi fitur optimal Random Forest adalah semua fitur terpakai: **['DA', 'P', 'I0', 'DR', 'Max IP', 'Area', 'PA500', 'A/DA', 'HFS']** \\\n",
        "\n",
        "Sebenarnya tidak diperlukan untuk melakukan reduksi fitur dikarenakan jumlah fitur yang terbilang sedikit, ditambah saya coba-coba untuk melakukan reduksi fitur secara manual ternyata hasil akurasi tertinggi didapat ketika jumlah fitur masih utuh (jumlah fitur awal)."
      ],
      "metadata": {
        "id": "VjsUFVrNfNLF"
      }
    },
    {
      "cell_type": "code",
      "source": [
        "from sklearn.model_selection import train_test_split\n",
        "from sklearn.ensemble import RandomForestClassifier\n",
        "from sklearn.metrics import accuracy_score, classification_report, confusion_matrix\n",
        "\n",
        "# datanya = pd.read_csv('/content/drive/MyDrive/PSDKris3/BreastTissue_No_Outlier_No_Duplikat.csv')\n",
        "\n",
        "with open('Data_Normalisasi_MinMax.pkl', 'rb') as file:\n",
        "    scaler = pickle.load(file)\n",
        "\n",
        "X_train, X_test, y_train, y_test = train_test_split(X, y, test_size=0.2, random_state=42)\n",
        "\n",
        "# Inisialisasi model Random Forest Classifier dengan n_estimators=7\n",
        "rf = RandomForestClassifier(n_estimators=7, random_state=42)\n",
        "\n",
        "# Melatih model dengan data latih\n",
        "rf.fit(X_train, y_train)\n",
        "\n",
        "# Memprediksi kelas untuk data uji\n",
        "y_pred = rf.predict(X_test)\n",
        "\n",
        "# Mengukur akurasi\n",
        "accuracy = accuracy_score(y_test, y_pred)\n",
        "\n",
        "# Menampilkan akurasi\n",
        "print(\"Akurasi:\", accuracy)"
      ],
      "metadata": {
        "colab": {
          "base_uri": "https://localhost:8080/"
        },
        "id": "UxETvBeBfRWO",
        "outputId": "b4b65c8a-3241-4569-d7f5-fa4fc120353a"
      },
      "execution_count": null,
      "outputs": [
        {
          "output_type": "stream",
          "name": "stdout",
          "text": [
            "Akurasi: 0.8235294117647058\n"
          ]
        }
      ]
    },
    {
      "cell_type": "code",
      "source": [
        "# Menyimpan model terbaik\n",
        "with open('model_terbaik_rf.pkl', 'wb') as file:\n",
        "    pickle.dump(rf, file)"
      ],
      "metadata": {
        "id": "lt8I33XlfWAD"
      },
      "execution_count": null,
      "outputs": []
    },
    {
      "cell_type": "markdown",
      "source": [
        "## **EVALUASI MODEL**"
      ],
      "metadata": {
        "id": "eRiNFnErfcx_"
      }
    },
    {
      "cell_type": "markdown",
      "source": [
        "Tahap evaluasi adalah proses mengevaluasi kinerja model yang telah dibuat terhadap dataset yang baru atau data yang tidak terlihat sebelumnya. Tujuannya adalah untuk menentukan seberapa baik model dapat melakukan prediksi atau menyelesaikan tugas tertentu berdasarkan performa yang diukur dengan metrik tertentu. \\\n",
        "\n",
        "Proses evaluasi ini penting karena memberikan wawasan tentang seberapa baik model akan berkinerja dalam situasi nyata atau pada data baru yang belum pernah dilihat sebelumnya. Adapun metrik evaluasi adalah sebagai berikut : \\\n",
        "\n",
        "1. Akurasi (Accuracy) : \\\n",
        "  Akurasi (accuracy) adalah salah satu metrik yang mengukur seberapa sering model klasifikasi memberikan prediksi yang benar atau tepat dari keseluruhan prediksi yang dilakukan.\n",
        "\n",
        "  $$\\text{Accuracy} = \\frac{\\text{True Positive} + \\text{True Negative}}{\\text{Total Data}}$$ \\\n",
        "\n",
        "  Di sinilah \"Jumlah prediksi benar ($ frac{\\text{True Positive} + \\text{True Negative}} $\" adalah jumlah dari semua prediksi yang sesuai dengan label sebenarnya pada dataset uji, dan \"Total data\" adalah keseluruhan jumlah data yang ada dalam dataset uji yang digunakan untuk evaluasi. \\\n",
        "\n",
        "2. Recall (Sensitivitas atau True Positive Rate) : \\\n",
        "  Recall adalah metrik evaluasi yang mengukur kemampuan model untuk mengidentifikasi atau mendeteksi keseluruhan sampel positif yang ada di dataset. Dalam istilah sederhana, recall mengukur seberapa banyak dari keseluruhan kelas yang sebenarnya positif dapat diidentifikasi dengan benar oleh model. \\\n",
        "\n",
        "  $$\\text{Recall} = \\frac{\\text{True Positive}}{\\text{True Positive} + \\text{False Negative}}$$ \\\n",
        "\n",
        "3. Precission : \\\n",
        "  Precision adalah metrik evaluasi yang mengukur seberapa tepat model dalam mengidentifikasi sampel yang diklasifikasikan sebagai positif, dari semua sampel yang diklasifikasikan sebagai positif oleh model. \\\n",
        "\n",
        "  $$\\text{Precission} = \\frac{\\text{True Positive}}{\\text{True Positive} + \\text{False Positive}}$$ \\\n",
        "\n",
        "4. F1 Score : \\\n",
        "  F1 Score adalah metrik evaluasi yang menggabungkan precision dan recall menjadi sebuah skor tunggal. Hal ini berguna ketika kita ingin memiliki pemahaman yang seimbang antara precision dan recall dalam mengevaluasi kinerja model. \\\n",
        "\n",
        "  $$\\text{F1 Score} = 2 \\times \\frac{\\text{Precision} \\times \\text{Recall}}{\\text{Precision} + \\text{Recall}}$$ \\\n",
        "\n",
        "5. Classification Report : \\\n",
        "  Dalam Classification Report akan tersajikan informasi statistik klasifikasi seperti precision, recall, dan f1-score untuk setiap kelas."
      ],
      "metadata": {
        "id": "ir68-t46r8_b"
      }
    },
    {
      "cell_type": "code",
      "source": [
        "import pickle\n",
        "from sklearn.metrics import accuracy_score, classification_report, confusion_matrix, recall_score, precision_score, f1_score\n",
        "\n",
        "# Memuat kembali model terbaik\n",
        "with open('model_terbaik_rf.pkl', 'rb') as file:\n",
        "    rf_model = pickle.load(file)\n",
        "\n",
        "# Memuat kembali normalisasi\n",
        "with open('Data_Normalisasi_MinMax.pkl', 'rb') as file:\n",
        "    scaler = pickle.load(file)\n",
        "\n",
        "# Memprediksi kelas untuk data uji\n",
        "y_pred = rf_model.predict(X_test)\n",
        "\n",
        "# Menghitung metrik evaluasi\n",
        "accuracy = accuracy_score(y_test, y_pred)\n",
        "recall = recall_score(y_test, y_pred, average='weighted')\n",
        "precision = precision_score(y_test, y_pred, average='weighted')\n",
        "f1 = f1_score(y_test, y_pred, average='weighted')\n",
        "\n",
        "print(f'Akurasi: {accuracy:.2%}')\n",
        "print(f'Recall: {recall:.2%}')\n",
        "print(f'Precision: {precision:.2%}')\n",
        "print(f'F1 Score: {f1:.2%}')\n",
        "\n",
        "# Menampilkan classification report\n",
        "print(\"Classification Report:\")\n",
        "print(classification_report(y_test, y_pred))"
      ],
      "metadata": {
        "colab": {
          "base_uri": "https://localhost:8080/"
        },
        "id": "m4M2IXOBfh3y",
        "outputId": "fa8c160d-d974-42d0-ac49-bfa99285db53"
      },
      "execution_count": null,
      "outputs": [
        {
          "output_type": "stream",
          "name": "stdout",
          "text": [
            "Akurasi: 82.35%\n",
            "Recall: 82.35%\n",
            "Precision: 82.35%\n",
            "F1 Score: 82.35%\n",
            "Classification Report:\n",
            "              precision    recall  f1-score   support\n",
            "\n",
            "         adi       1.00      1.00      1.00         2\n",
            "         car       1.00      1.00      1.00         5\n",
            "         con       1.00      1.00      1.00         3\n",
            "         fad       0.50      0.50      0.50         2\n",
            "         gla       0.50      0.50      0.50         2\n",
            "         mas       0.67      0.67      0.67         3\n",
            "\n",
            "    accuracy                           0.82        17\n",
            "   macro avg       0.78      0.78      0.78        17\n",
            "weighted avg       0.82      0.82      0.82        17\n",
            "\n"
          ]
        }
      ]
    }
  ]
}